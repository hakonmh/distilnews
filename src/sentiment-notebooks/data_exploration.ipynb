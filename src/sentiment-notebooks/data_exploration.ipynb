{
 "cells": [
  {
   "attachments": {},
   "cell_type": "markdown",
   "metadata": {},
   "source": [
    "# Sentiment Data Exploration"
   ]
  },
  {
   "cell_type": "code",
   "execution_count": 42,
   "metadata": {},
   "outputs": [],
   "source": [
    "import pandas as pd\n",
    "import numpy as np\n",
    "import matplotlib.pyplot as plt\n",
    "import seaborn as sns"
   ]
  },
  {
   "attachments": {},
   "cell_type": "markdown",
   "metadata": {},
   "source": [
    "### Test set"
   ]
  },
  {
   "cell_type": "code",
   "execution_count": 43,
   "metadata": {},
   "outputs": [
    {
     "name": "stdout",
     "output_type": "stream",
     "text": [
      "<class 'pandas.core.frame.DataFrame'>\n",
      "Int64Index: 6231 entries, 2 to 10751\n",
      "Data columns (total 5 columns):\n",
      " #   Column             Non-Null Count  Dtype \n",
      "---  ------             --------------  ----- \n",
      " 0   Headlines          6231 non-null   object\n",
      " 1   Manual Sentiment   6231 non-null   object\n",
      " 2   Topic              6231 non-null   object\n",
      " 3   GPT Sentiment      6231 non-null   object\n",
      " 4   FinBERT Sentiment  6231 non-null   object\n",
      "dtypes: object(5)\n",
      "memory usage: 292.1+ KB\n"
     ]
    },
    {
     "data": {
      "text/html": [
       "<div>\n",
       "<style scoped>\n",
       "    .dataframe tbody tr th:only-of-type {\n",
       "        vertical-align: middle;\n",
       "    }\n",
       "\n",
       "    .dataframe tbody tr th {\n",
       "        vertical-align: top;\n",
       "    }\n",
       "\n",
       "    .dataframe thead th {\n",
       "        text-align: right;\n",
       "    }\n",
       "</style>\n",
       "<table border=\"1\" class=\"dataframe\">\n",
       "  <thead>\n",
       "    <tr style=\"text-align: right;\">\n",
       "      <th></th>\n",
       "      <th>Headlines</th>\n",
       "      <th>Manual Sentiment</th>\n",
       "      <th>Topic</th>\n",
       "      <th>GPT Sentiment</th>\n",
       "      <th>FinBERT Sentiment</th>\n",
       "    </tr>\n",
       "  </thead>\n",
       "  <tbody>\n",
       "    <tr>\n",
       "      <th>count</th>\n",
       "      <td>6231</td>\n",
       "      <td>6231</td>\n",
       "      <td>6231</td>\n",
       "      <td>6231</td>\n",
       "      <td>6231</td>\n",
       "    </tr>\n",
       "    <tr>\n",
       "      <th>unique</th>\n",
       "      <td>6204</td>\n",
       "      <td>3</td>\n",
       "      <td>4</td>\n",
       "      <td>3</td>\n",
       "      <td>3</td>\n",
       "    </tr>\n",
       "    <tr>\n",
       "      <th>top</th>\n",
       "      <td>Pulses prices end steady in tight movements</td>\n",
       "      <td>Positive</td>\n",
       "      <td>Company</td>\n",
       "      <td>Positive</td>\n",
       "      <td>Positive</td>\n",
       "    </tr>\n",
       "    <tr>\n",
       "      <th>freq</th>\n",
       "      <td>2</td>\n",
       "      <td>2247</td>\n",
       "      <td>3055</td>\n",
       "      <td>2247</td>\n",
       "      <td>2247</td>\n",
       "    </tr>\n",
       "  </tbody>\n",
       "</table>\n",
       "</div>"
      ],
      "text/plain": [
       "                                          Headlines Manual Sentiment    Topic  \\\n",
       "count                                          6231             6231     6231   \n",
       "unique                                         6204                3        4   \n",
       "top     Pulses prices end steady in tight movements         Positive  Company   \n",
       "freq                                              2             2247     3055   \n",
       "\n",
       "       GPT Sentiment FinBERT Sentiment  \n",
       "count           6231              6231  \n",
       "unique             3                 3  \n",
       "top         Positive          Positive  \n",
       "freq            2247              2247  "
      ]
     },
     "execution_count": 43,
     "metadata": {},
     "output_type": "execute_result"
    }
   ],
   "source": [
    "# Check test set classifications\n",
    "test = pd.read_csv('../../data/classified-data/aspect_based_analysis.csv')\n",
    "\n",
    "# The final test set is based on the subset of the aspect-based analysis raw data\n",
    "# given by this mask.\n",
    "mask = ((test['GPT Sentiment'] == test['Manual Sentiment']) & \n",
    "        (test['GPT Sentiment'] == test['FinBERT Sentiment']))\n",
    "\n",
    "test[mask].info()\n",
    "test[mask].describe()"
   ]
  },
  {
   "cell_type": "code",
   "execution_count": 44,
   "metadata": {},
   "outputs": [
    {
     "name": "stdout",
     "output_type": "stream",
     "text": [
      "57.95% of headlines kept\n",
      "\n",
      "                                            Headlines Manual Sentiment\n",
      "10739        Wipro, Siemens to exit Nifty from Monday          Neutral\n",
      "10740               Dollar, euro surge in Asian trade         Positive\n",
      "10744    Coriander, turmeric weaken on subdued demand         Negative\n",
      "10745         European shares dip early; Wincor sinks         Negative\n",
      "10746          Gram, masoor decline on subdued demand         Negative\n",
      "10747         Jeera, pepper decline on subdued demand         Negative\n",
      "10748    Negative on Chambal, Advanta: Mitesh Thacker         Negative\n",
      "10749  Small, Mid-cap stocks may emerge outperformers         Positive\n",
      "10750                   Rupee slips against US dollar         Negative\n",
      "10751                    Rupee weak against US dollar         Negative\n"
     ]
    }
   ],
   "source": [
    "print(f'{(mask).sum() / len(test):.2%} of headlines kept\\n')\n",
    "print(test[mask].tail(10)[['Headlines', 'Manual Sentiment']])"
   ]
  },
  {
   "cell_type": "code",
   "execution_count": 34,
   "metadata": {},
   "outputs": [
    {
     "name": "stdout",
     "output_type": "stream",
     "text": [
      "Manual Sentiment\n",
      "Negative    0.298026\n",
      "Neutral     0.341358\n",
      "Positive    0.360616\n",
      "Name: Headlines, dtype: float64\n"
     ]
    }
   ],
   "source": [
    "# Class distribution\n",
    "print(test[mask].groupby('Manual Sentiment')['Headlines'].count() / len(test[mask]))"
   ]
  },
  {
   "attachments": {},
   "cell_type": "markdown",
   "metadata": {},
   "source": [
    "Both datsets are decently balanced."
   ]
  },
  {
   "attachments": {},
   "cell_type": "markdown",
   "metadata": {},
   "source": [
    "### Train set"
   ]
  },
  {
   "cell_type": "code",
   "execution_count": 35,
   "metadata": {},
   "outputs": [
    {
     "name": "stdout",
     "output_type": "stream",
     "text": [
      "Sentiment\n",
      "Negative    0.286162\n",
      "Neutral     0.397445\n",
      "Positive    0.316393\n",
      "Name: Headlines, dtype: float64\n"
     ]
    }
   ],
   "source": [
    "train = pd.read_csv('../../data/fixed-data/sentiment-train.csv')\n",
    "print(train.groupby('Sentiment')['Headlines'].count() / len(train))"
   ]
  },
  {
   "cell_type": "code",
   "execution_count": 36,
   "metadata": {},
   "outputs": [
    {
     "name": "stdout",
     "output_type": "stream",
     "text": [
      "<class 'pandas.core.frame.DataFrame'>\n",
      "RangeIndex: 311764 entries, 0 to 311763\n",
      "Data columns (total 2 columns):\n",
      " #   Column     Non-Null Count   Dtype \n",
      "---  ------     --------------   ----- \n",
      " 0   Headlines  311764 non-null  object\n",
      " 1   Sentiment  311764 non-null  object\n",
      "dtypes: object(2)\n",
      "memory usage: 4.8+ MB\n"
     ]
    },
    {
     "data": {
      "text/html": [
       "<div>\n",
       "<style scoped>\n",
       "    .dataframe tbody tr th:only-of-type {\n",
       "        vertical-align: middle;\n",
       "    }\n",
       "\n",
       "    .dataframe tbody tr th {\n",
       "        vertical-align: top;\n",
       "    }\n",
       "\n",
       "    .dataframe thead th {\n",
       "        text-align: right;\n",
       "    }\n",
       "</style>\n",
       "<table border=\"1\" class=\"dataframe\">\n",
       "  <thead>\n",
       "    <tr style=\"text-align: right;\">\n",
       "      <th></th>\n",
       "      <th>Headlines</th>\n",
       "      <th>Sentiment</th>\n",
       "    </tr>\n",
       "  </thead>\n",
       "  <tbody>\n",
       "    <tr>\n",
       "      <th>count</th>\n",
       "      <td>311764</td>\n",
       "      <td>311764</td>\n",
       "    </tr>\n",
       "    <tr>\n",
       "      <th>unique</th>\n",
       "      <td>236813</td>\n",
       "      <td>3</td>\n",
       "    </tr>\n",
       "    <tr>\n",
       "      <th>top</th>\n",
       "      <td>TheStreet Ratings Top 10 Rating Changes</td>\n",
       "      <td>Neutral</td>\n",
       "    </tr>\n",
       "    <tr>\n",
       "      <th>freq</th>\n",
       "      <td>269</td>\n",
       "      <td>123909</td>\n",
       "    </tr>\n",
       "  </tbody>\n",
       "</table>\n",
       "</div>"
      ],
      "text/plain": [
       "                                      Headlines Sentiment\n",
       "count                                    311764    311764\n",
       "unique                                   236813         3\n",
       "top     TheStreet Ratings Top 10 Rating Changes   Neutral\n",
       "freq                                        269    123909"
      ]
     },
     "execution_count": 36,
     "metadata": {},
     "output_type": "execute_result"
    }
   ],
   "source": [
    "train.info()\n",
    "train.describe()"
   ]
  },
  {
   "attachments": {},
   "cell_type": "markdown",
   "metadata": {},
   "source": [
    "A lot of duplicate headlines. This should be rectified in the data preproccessing."
   ]
  },
  {
   "cell_type": "code",
   "execution_count": 37,
   "metadata": {},
   "outputs": [
    {
     "name": "stdout",
     "output_type": "stream",
     "text": [
      "Sentiment\n",
      "Negative    0.188887\n",
      "Neutral     0.465695\n",
      "Positive    0.345418\n",
      "Name: Headlines, dtype: float64\n"
     ]
    },
    {
     "data": {
      "text/html": [
       "<div>\n",
       "<style scoped>\n",
       "    .dataframe tbody tr th:only-of-type {\n",
       "        vertical-align: middle;\n",
       "    }\n",
       "\n",
       "    .dataframe tbody tr th {\n",
       "        vertical-align: top;\n",
       "    }\n",
       "\n",
       "    .dataframe thead th {\n",
       "        text-align: right;\n",
       "    }\n",
       "</style>\n",
       "<table border=\"1\" class=\"dataframe\">\n",
       "  <thead>\n",
       "    <tr style=\"text-align: right;\">\n",
       "      <th></th>\n",
       "      <th>Headlines</th>\n",
       "      <th>Sentiment</th>\n",
       "    </tr>\n",
       "  </thead>\n",
       "  <tbody>\n",
       "    <tr>\n",
       "      <th>270642</th>\n",
       "      <td>( ADP News ) - Dec 11 , 2008 - Finnish constru...</td>\n",
       "      <td>Neutral</td>\n",
       "    </tr>\n",
       "    <tr>\n",
       "      <th>299956</th>\n",
       "      <td>( ADP News ) - Dec 11 , 2008 - Finnish constru...</td>\n",
       "      <td>Positive</td>\n",
       "    </tr>\n",
       "    <tr>\n",
       "      <th>48645</th>\n",
       "      <td>( ADP News ) - Feb 11 , 2009 - Finnish wood pr...</td>\n",
       "      <td>Neutral</td>\n",
       "    </tr>\n",
       "    <tr>\n",
       "      <th>169389</th>\n",
       "      <td>( ADP News ) - Feb 11 , 2009 - Finnish wood pr...</td>\n",
       "      <td>Negative</td>\n",
       "    </tr>\n",
       "    <tr>\n",
       "      <th>138184</th>\n",
       "      <td>( ADP News ) - Feb 12 , 2009 - Finnish constru...</td>\n",
       "      <td>Negative</td>\n",
       "    </tr>\n",
       "  </tbody>\n",
       "</table>\n",
       "</div>"
      ],
      "text/plain": [
       "                                                Headlines Sentiment\n",
       "270642  ( ADP News ) - Dec 11 , 2008 - Finnish constru...   Neutral\n",
       "299956  ( ADP News ) - Dec 11 , 2008 - Finnish constru...  Positive\n",
       "48645   ( ADP News ) - Feb 11 , 2009 - Finnish wood pr...   Neutral\n",
       "169389  ( ADP News ) - Feb 11 , 2009 - Finnish wood pr...  Negative\n",
       "138184  ( ADP News ) - Feb 12 , 2009 - Finnish constru...  Negative"
      ]
     },
     "execution_count": 37,
     "metadata": {},
     "output_type": "execute_result"
    }
   ],
   "source": [
    "# Let's first look at the duplicates\n",
    "dupl = train[train.duplicated(subset='Headlines', keep=False)].sort_values(by='Headlines')\n",
    "print(dupl.groupby('Sentiment')['Headlines'].count() / len(dupl))\n",
    "dupl.head()"
   ]
  },
  {
   "cell_type": "code",
   "execution_count": 38,
   "metadata": {},
   "outputs": [
    {
     "data": {
      "text/html": [
       "<div>\n",
       "<style scoped>\n",
       "    .dataframe tbody tr th:only-of-type {\n",
       "        vertical-align: middle;\n",
       "    }\n",
       "\n",
       "    .dataframe tbody tr th {\n",
       "        vertical-align: top;\n",
       "    }\n",
       "\n",
       "    .dataframe thead th {\n",
       "        text-align: right;\n",
       "    }\n",
       "</style>\n",
       "<table border=\"1\" class=\"dataframe\">\n",
       "  <thead>\n",
       "    <tr style=\"text-align: right;\">\n",
       "      <th></th>\n",
       "      <th>Headlines</th>\n",
       "      <th>Sentiment</th>\n",
       "    </tr>\n",
       "  </thead>\n",
       "  <tbody>\n",
       "    <tr>\n",
       "      <th>count</th>\n",
       "      <td>236813</td>\n",
       "      <td>236813</td>\n",
       "    </tr>\n",
       "    <tr>\n",
       "      <th>unique</th>\n",
       "      <td>236813</td>\n",
       "      <td>3</td>\n",
       "    </tr>\n",
       "    <tr>\n",
       "      <th>top</th>\n",
       "      <td>4 Stocks to Gain From the Promising Diversifie...</td>\n",
       "      <td>Neutral</td>\n",
       "    </tr>\n",
       "    <tr>\n",
       "      <th>freq</th>\n",
       "      <td>1</td>\n",
       "      <td>87951</td>\n",
       "    </tr>\n",
       "  </tbody>\n",
       "</table>\n",
       "</div>"
      ],
      "text/plain": [
       "                                                Headlines Sentiment\n",
       "count                                              236813    236813\n",
       "unique                                             236813         3\n",
       "top     4 Stocks to Gain From the Promising Diversifie...   Neutral\n",
       "freq                                                    1     87951"
      ]
     },
     "execution_count": 38,
     "metadata": {},
     "output_type": "execute_result"
    }
   ],
   "source": [
    "# Remove duplicates\n",
    "train = train.drop_duplicates(subset='Headlines')\n",
    "train.describe()"
   ]
  },
  {
   "cell_type": "code",
   "execution_count": 39,
   "metadata": {},
   "outputs": [
    {
     "data": {
      "text/plain": [
       "<AxesSubplot: xlabel='headline_length', ylabel='Count'>"
      ]
     },
     "execution_count": 39,
     "metadata": {},
     "output_type": "execute_result"
    },
    {
     "data": {
      "image/png": "[encoded data removed]",
      "text/plain": [
       "<Figure size 432x288 with 1 Axes>"
      ]
     },
     "metadata": {
      "needs_background": "light"
     },
     "output_type": "display_data"
    }
   ],
   "source": [
    "train['headline_length'] = train['Headlines'].apply(lambda x: min(len(x.split()), 25))\n",
    "sns.histplot(data=train, x='headline_length', hue='Sentiment', multiple='stack', bins=10)"
   ]
  },
  {
   "cell_type": "code",
   "execution_count": 40,
   "metadata": {},
   "outputs": [
    {
     "data": {
      "image/png": "[encoded data removed]",
      "text/plain": [
       "<Figure size 720x648 with 3 Axes>"
      ]
     },
     "metadata": {
      "needs_background": "light"
     },
     "output_type": "display_data"
    }
   ],
   "source": [
    "from sklearn.feature_extraction.text import CountVectorizer\n",
    "\n",
    "\n",
    "def get_ngrams(corpus, ngrams=1, relative=False):\n",
    "    \"\"\"Get all n-grams from a corpus of text.\n",
    "    \n",
    "    Args:\n",
    "        corpus: A list of strings representing the text documents.\n",
    "        ngrams: The size of the n-grams to be extracted (default: 1).\n",
    "        relative: If True, returns relative frequencies (default: False).\n",
    "    \n",
    "    Returns:\n",
    "        A tuple containing two lists: n-gram words and their corresponding frequencies.\n",
    "    \"\"\"\n",
    "    vec = CountVectorizer(ngram_range=(ngrams, ngrams)).fit(corpus)\n",
    "    bag_of_words = vec.transform(corpus)\n",
    "    sum_words = bag_of_words.sum(axis=0)\n",
    "    words_freq = [(word, sum_words[0, idx]) for word, idx in vec.vocabulary_.items()]\n",
    "    words_freq = sorted(words_freq, key=lambda x: x[1], reverse=True)\n",
    "    words, frequencies = zip(*words_freq)\n",
    "    if relative:\n",
    "        frequencies = frequencies / np.sum(frequencies)\n",
    "    return words, frequencies\n",
    "\n",
    "\n",
    "def plot_top_ngrams(ax, corpus, ngrams=1, top_k=10):\n",
    "    \"\"\"Plot the top k n-grams from a corpus of text.\"\"\"\n",
    "    words, frequencies = get_ngrams(corpus, ngrams=ngrams)\n",
    "    words, frequencies = words[:top_k], frequencies[:top_k]\n",
    "    ax.barh(words, frequencies)\n",
    "    ax.invert_yaxis()\n",
    "    ax.set_xlabel('Frequency')\n",
    "    ax.set_ylabel(f'{ngrams}-grams')\n",
    "\n",
    "\n",
    "fig, axes = plt.subplots(3, 1, figsize=(10, 9))\n",
    "plot_top_ngrams(axes[0], train['Headlines'], ngrams=1)\n",
    "plot_top_ngrams(axes[1], train['Headlines'], ngrams=2)\n",
    "plot_top_ngrams(axes[2], train['Headlines'], ngrams=3)\n",
    "plt.tight_layout()\n",
    "plt.show()"
   ]
  },
  {
   "attachments": {},
   "cell_type": "markdown",
   "metadata": {},
   "source": [
    "The relative frequency of analyst blog is suspicious."
   ]
  },
  {
   "cell_type": "code",
   "execution_count": 41,
   "metadata": {},
   "outputs": [
    {
     "data": {
      "image/png": "[encoded data removed]",
      "text/plain": [
       "<Figure size 1296x720 with 6 Axes>"
      ]
     },
     "metadata": {
      "needs_background": "light"
     },
     "output_type": "display_data"
    }
   ],
   "source": [
    "def plot_top_ngrams_relative(ax, corpus, total_counts, ngrams=1, top_k=10):\n",
    "    \"\"\" Plot the top k n-grams relative to the total dataset for a given corpus.\n",
    "    \n",
    "    I.e. if 'bull' is 0.2% of the total dataset and 0.6% of the corpus, then the relative\n",
    "    frequency of 'bull' is 0.6 - 0.2 = 0.4 %.\n",
    "    \n",
    "    Args:\n",
    "        ax: A matplotlib axes object for plotting.\n",
    "        corpus: A list of strings representing the text documents.\n",
    "        total_counts: A dictionary containing the total counts of n-grams for all sentiments.\n",
    "        ngrams: The size of the n-grams to be extracted (default: 1).\n",
    "        top_k: The number of top n-grams to display (default: 10).\n",
    "    \"\"\"\n",
    "    word_freq = get_ngrams(corpus, ngrams=ngrams, relative=True)\n",
    "    relative_word_freq = [(w, f - total_counts[w]) for w, f in zip(*word_freq)]\n",
    "    words_freq = sorted(relative_word_freq, key=lambda x: x[1], reverse=True)[:top_k]\n",
    "    words, relative_frequencies = zip(*words_freq)\n",
    "\n",
    "    ax.barh(words, relative_frequencies)\n",
    "    ax.invert_yaxis()\n",
    "    ax.set_xlabel('Relative Frequency')\n",
    "    ax.set_ylabel(f'{ngrams}-grams')\n",
    "    # Set x-axis to percentage\n",
    "    xticks = ax.get_xticks()\n",
    "    ax.set_xticks(xticks)\n",
    "    ax.set_xticklabels(['{:,.2%}'.format(x) for x in xticks])\n",
    "\n",
    "\n",
    "total_1ngrams = get_ngrams(train['Headlines'], ngrams=1, relative=True)\n",
    "total_1ngrams = dict(zip(*total_1ngrams))\n",
    "total_2ngrams = get_ngrams(train['Headlines'], ngrams=2, relative=True)\n",
    "total_2ngrams = dict(zip(*total_2ngrams))\n",
    "\n",
    "unique_sentiments = ['Positive', 'Neutral', 'Negative']\n",
    "num_sentiments = len(unique_sentiments)\n",
    "fig, axes = plt.subplots(2, num_sentiments, figsize=(6 * num_sentiments, 10))\n",
    "\n",
    "for col, sentiment in enumerate(unique_sentiments):\n",
    "    headlines = train[train['Sentiment'] == sentiment]['Headlines']\n",
    "    axes[0, col].set_title(sentiment)\n",
    "    plot_top_ngrams_relative(axes[0, col], headlines, total_counts=total_1ngrams, ngrams=1)\n",
    "    plot_top_ngrams_relative(axes[1, col], headlines, total_counts=total_2ngrams, ngrams=2)\n",
    "\n",
    "fig.suptitle('Top N-grams Frequencies Relative to Full Dataset', fontsize=16, y=1.03)\n",
    "plt.tight_layout()\n",
    "plt.show()"
   ]
  },
  {
   "attachments": {},
   "cell_type": "markdown",
   "metadata": {},
   "source": [
    "### Some conclusions\n",
    "\n",
    "- Duplicates should be removed in the pre-processing pipeline.\n",
    "- The amount of `analyst blog` n-grams should be looked into. One of the datasets is probably full of \n",
    "analyst blogs instead of mainstream news headlines.\n",
    "- The word `stocks` is suspiciously bullish. Do some manually testing of models with fictious \n",
    "headlines like *\"Stocks crashes after the President announces new lockdown\"*."
   ]
  }
 ],
 "metadata": {
  "kernelspec": {
   "display_name": "Python 3",
   "language": "python",
   "name": "python3"
  },
  "language_info": {
   "codemirror_mode": {
    "name": "ipython",
    "version": 3
   },
   "file_extension": ".py",
   "mimetype": "text/x-python",
   "name": "python",
   "nbconvert_exporter": "python",
   "pygments_lexer": "ipython3",
   "version": "3.10.5"
  },
  "orig_nbformat": 4
 },
 "nbformat": 4,
 "nbformat_minor": 2
}
