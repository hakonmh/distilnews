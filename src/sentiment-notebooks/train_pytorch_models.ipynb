{
 "cells": [
  {
   "attachments": {},
   "cell_type": "markdown",
   "metadata": {},
   "source": [
    "# Train Torch Models\n",
    "\n",
    "Trains a LSTM and a Transformer on the sentiment dataset"
   ]
  },
  {
   "cell_type": "code",
   "execution_count": 1,
   "metadata": {},
   "outputs": [],
   "source": [
    "# To allow importing modules from src\n",
    "import sys\n",
    "import os\n",
    "\n",
    "# Get the absolute path of the 'src' directory\n",
    "src_dir = os.path.abspath(os.path.join(os.getcwd(), os.pardir))\n",
    "\n",
    "# Add 'src' directory to the Python path\n",
    "if src_dir not in sys.path:\n",
    "    sys.path.append(src_dir)"
   ]
  },
  {
   "cell_type": "code",
   "execution_count": 2,
   "metadata": {},
   "outputs": [],
   "source": [
    "import re\n",
    "import datetime\n",
    "import itertools\n",
    "\n",
    "import torch\n",
    "from torch import nn, optim\n",
    "import torch.nn.functional as F\n",
    "from torch.utils.data import DataLoader\n",
    "from torch.utils import tensorboard as tb\n",
    "# Run tensorboard --logdir=runs in terminal, open http://localhost:6006 to view tb\n",
    "from torch.nn.utils import clip_grad_norm_\n",
    "from torchtext.vocab import build_vocab_from_iterator\n",
    "\n",
    "from nltk.tokenize import word_tokenize\n",
    "from tqdm.auto import tqdm\n",
    "from lr_finder import LRFinder\n",
    "from helpers import (SentimentDataset, save_model, load_model,\n",
    "                     SENTIMENT_TO_ID, ID_TO_SENTIMENT, test_accuracy)"
   ]
  },
  {
   "cell_type": "code",
   "execution_count": 3,
   "metadata": {},
   "outputs": [],
   "source": [
    "BATCH_SIZE = 100\n",
    "MAX_LEN = 30\n",
    "\n",
    "device = torch.device(\"cuda\" if torch.cuda.is_available() else \"cpu\")\n",
    "now = datetime.datetime.now().strftime(\"%Y-%m-%d %H-%M-%S\")"
   ]
  },
  {
   "cell_type": "code",
   "execution_count": 4,
   "metadata": {},
   "outputs": [],
   "source": [
    "train_set = SentimentDataset('../../data/fixed-data/sentiment-train.csv')\n",
    "test_set = SentimentDataset('../../data/fixed-data/sentiment-val.csv')\n",
    "\n",
    "train_loader = DataLoader(train_set, batch_size=BATCH_SIZE, shuffle=True)\n",
    "test_loader = DataLoader(test_set, batch_size=BATCH_SIZE, shuffle=True)"
   ]
  },
  {
   "attachments": {},
   "cell_type": "markdown",
   "metadata": {},
   "source": [
    "### Data Pre-processing"
   ]
  },
  {
   "cell_type": "code",
   "execution_count": 5,
   "metadata": {},
   "outputs": [
    {
     "name": "stdout",
     "output_type": "stream",
     "text": [
      "['<pad>', '<unk>', 'to', 'in', 'the', 'for', 'on', 'of', 'analyst', 'stocks']\n",
      "14443\n"
     ]
    },
    {
     "data": {
      "text/plain": [
       "[1283, 18, 179, 9472, 1, 370, 1]"
      ]
     },
     "execution_count": 5,
     "metadata": {},
     "output_type": "execute_result"
    }
   ],
   "source": [
    "def tokenize(sentence):\n",
    "    sentence = re.sub(r'[^\\w\\s]', '', sentence)\n",
    "    tokens = word_tokenize(sentence)\n",
    "    return [token.lower().strip() for token in tokens if token.isalpha()]\n",
    "\n",
    "\n",
    "def tokenize_batch(data):\n",
    "    # Converts words to tokens\n",
    "    for sentences, _ in data:\n",
    "        for sentence in sentences:\n",
    "            yield tokenize(sentence)\n",
    "\n",
    "def build_vocab(data):\n",
    "    vocab = build_vocab_from_iterator(tokenize_batch(data), specials=['<pad>','<unk>'], min_freq=10)\n",
    "    # Set words outside the vocabulary to <unk>\n",
    "    vocab.set_default_index(vocab[\"<unk>\"])\n",
    "    return vocab\n",
    "\n",
    "vocab = build_vocab(train_loader)\n",
    "print(vocab.get_itos()[:10])\n",
    "print(len(vocab))\n",
    "vocab(['here', 'is', 'an', 'example',\"Let's\", 'go', 'U.S.'])"
   ]
  },
  {
   "cell_type": "code",
   "execution_count": 6,
   "metadata": {},
   "outputs": [
    {
     "data": {
      "text/plain": [
       "tensor([   0,    0,    0,    0,    0,    0,    0,    0,    0,    0,    0,    0,\n",
       "           0,    0,    0,    0,    0,    0, 1283,   18,  179, 9472, 2939,  370,\n",
       "          12])"
      ]
     },
     "execution_count": 6,
     "metadata": {},
     "output_type": "execute_result"
    }
   ],
   "source": [
    "def feature_pipeline(sentence, vocab, max_length=25):\n",
    "    \"\"\"Converts a sentence to a tensor of token indices, pads it to a fixed length, \n",
    "    and converts it to a one-hot vector.\n",
    "    \"\"\"\n",
    "    tokens = tokenize(sentence)\n",
    "    if len(tokens) < max_length:\n",
    "        pad_size = max_length - len(tokens)\n",
    "        tokens = ['<pad>'] * pad_size + tokens\n",
    "    else:\n",
    "        tokens = tokens[:max_length]\n",
    "    tokens = vocab(tokens)\n",
    "    tokens = torch.tensor(tokens, dtype=torch.int64)\n",
    "    return tokens\n",
    "\n",
    "\n",
    "feature_pipeline('Here is an example, Let\\'s go U.S.!', vocab)"
   ]
  },
  {
   "cell_type": "code",
   "execution_count": 7,
   "metadata": {},
   "outputs": [
    {
     "name": "stdout",
     "output_type": "stream",
     "text": [
      "{'Negative': 0, 'Neutral': 1, 'Positive': 2}\n"
     ]
    },
    {
     "data": {
      "text/plain": [
       "tensor([[1, 0, 0],\n",
       "        [0, 1, 0],\n",
       "        [0, 0, 1]])"
      ]
     },
     "execution_count": 7,
     "metadata": {},
     "output_type": "execute_result"
    }
   ],
   "source": [
    "def label_pipeline(labels):\n",
    "    return torch.nn.functional.one_hot(labels, num_classes=3)\n",
    "\n",
    "print(SENTIMENT_TO_ID)\n",
    "label_pipeline(torch.tensor([0, 1, 2]))"
   ]
  },
  {
   "cell_type": "code",
   "execution_count": 8,
   "metadata": {},
   "outputs": [],
   "source": [
    "def collate_batch(batch, vocab, max_length):\n",
    "    \"\"\"Process a batch of data to its proper form.\"\"\"\n",
    "    # Feature should be batch_size * num_words * num_vocabs\n",
    "    features, labels = zip(*batch)\n",
    "    features = [feature_pipeline(feature, vocab, max_length) for feature in features]\n",
    "    onehot_labels = [label_pipeline(label) for label in labels]\n",
    "    features = torch.stack(features, dim=0)\n",
    "    labels = torch.stack(onehot_labels)\n",
    "    return features, labels\n",
    "\n",
    "\n",
    "train_loader = DataLoader(train_set, batch_size=BATCH_SIZE, shuffle=True, \n",
    "                          collate_fn=lambda x: collate_batch(x, vocab, max_length=MAX_LEN))\n",
    "test_loader = DataLoader(test_set, batch_size=BATCH_SIZE, shuffle=True, \n",
    "                         collate_fn=lambda x: collate_batch(x, vocab, max_length=MAX_LEN))"
   ]
  },
  {
   "attachments": {},
   "cell_type": "markdown",
   "metadata": {},
   "source": [
    "### Training Helper Functions"
   ]
  },
  {
   "cell_type": "code",
   "execution_count": 10,
   "metadata": {},
   "outputs": [],
   "source": [
    "def train_model(\n",
    "    model, criterion, optimizer, train_loader, test_loader, writer,\n",
    "    num_epochs, scheduler=None, device='cuda', max_norm=None\n",
    "):\n",
    "    test_iter = itertools.cycle(iter(test_loader))\n",
    "    num_batches = len(train_loader)\n",
    "    writer.add_text('Hyperparameters', f'num_epochs: {num_epochs}, num_batches: {num_batches}')\n",
    "\n",
    "    progress_bar = tqdm(range(num_epochs*num_batches))\n",
    "    epoch_bar = tqdm(range(num_epochs))\n",
    "    for epoch in range(0, num_epochs):\n",
    "        batch_idx = 0\n",
    "        for train_batch in train_loader:\n",
    "            train_loss, train_accuracy = _train_one_round(train_batch, model, criterion, optimizer, \n",
    "                                                          device, max_norm)            \n",
    "            if batch_idx % 10 == 0:\n",
    "                test_batch = next(test_iter)\n",
    "                test_loss, test_accuracy = _evaluate_one_round(test_batch, model, criterion, device)\n",
    "                gradient_norm = _get_gradient_norm(model)\n",
    "            \n",
    "                n_iter = batch_idx + num_batches * epoch\n",
    "                _write_to_tboard(writer, n_iter, train_loss, test_loss, \n",
    "                                 train_accuracy, test_accuracy, gradient_norm)\n",
    "            batch_idx += 1\n",
    "            progress_bar.update(1)\n",
    "        epoch_bar.update(1)\n",
    "        if scheduler:\n",
    "            scheduler.step()\n",
    "\n",
    "\n",
    "def _train_one_round(batch, model, criterion, optimizer, device='cuda', max_norm=None):\n",
    "    optimizer.zero_grad()\n",
    "    features, targets = batch\n",
    "    features = features.to(device=device)\n",
    "    targets = targets.to(device=device)\n",
    "\n",
    "    output = model(features)\n",
    "    if isinstance(output, tuple):\n",
    "        output = output[0]\n",
    "    loss = criterion(output.float(), targets.float())\n",
    "    loss.backward()\n",
    "    if max_norm:\n",
    "        clip_grad_norm_(model.parameters(), max_norm=max_norm)  # Prevents exploding gradients\n",
    "    optimizer.step()\n",
    "\n",
    "    accuracy = (output.argmax(dim=1) == targets.argmax(dim=1)).sum().item() / len(targets)\n",
    "    del features, targets, output\n",
    "    return loss, accuracy\n",
    "\n",
    "\n",
    "def _get_gradient_norm(model):\n",
    "    \"\"\"Computes the gradient norm of a model. I.e. the sum of the size of all gradients\"\"\"\n",
    "    total_norm = 0\n",
    "    for p in model.parameters():\n",
    "        param_norm = p.grad.norm(2)\n",
    "        total_norm += param_norm.item() ** 2\n",
    "    total_norm = total_norm ** 0.5\n",
    "    return total_norm\n",
    "\n",
    "\n",
    "def _evaluate_one_round(batch, model, criterion, device='cuda'):\n",
    "    features, targets = batch\n",
    "    features = features.to(device=device)\n",
    "    targets = targets.to(device=device)\n",
    "\n",
    "    with torch.no_grad():\n",
    "        output = model(features)\n",
    "        if isinstance(output, tuple):\n",
    "            output = output[0]\n",
    "        loss = criterion(output.float(), targets.float())\n",
    "\n",
    "    accuracy = (output.argmax(1) == targets.argmax(1)).sum().item() / len(targets)\n",
    "    del features, targets, output\n",
    "    return loss, accuracy\n",
    "\n",
    "\n",
    "def _write_to_tboard(writer, n_iter, train_loss, test_loss, \n",
    "                     train_accuracy, test_accuracy, gradient_norm):\n",
    "    writer.add_scalar('Train loss', train_loss, n_iter)\n",
    "    writer.add_scalar('Test loss', test_loss, n_iter)\n",
    "    writer.add_scalar('Train accuracy', train_accuracy, n_iter)\n",
    "    writer.add_scalar('Test accuracy', test_accuracy, n_iter)\n",
    "    writer.add_scalar('Gradient norm', gradient_norm, n_iter)"
   ]
  },
  {
   "attachments": {},
   "cell_type": "markdown",
   "metadata": {},
   "source": [
    "### Train LSTM"
   ]
  },
  {
   "cell_type": "code",
   "execution_count": 11,
   "metadata": {},
   "outputs": [],
   "source": [
    "class LSTMModel(nn.Module):\n",
    "    def __init__(self, vocab_size, embedding_size, hidden_size, output_size, num_lstm_layers=2, gain=1.0):\n",
    "        super().__init__()\n",
    "\n",
    "        self.embedding = nn.Embedding(vocab_size, embedding_size)\n",
    "        self.lstm = nn.LSTM(embedding_size, hidden_size, num_layers=num_lstm_layers, batch_first=True)\n",
    "        self.dropout = nn.Dropout(0.2)\n",
    "        self.fc1 = nn.Linear(hidden_size, hidden_size//2)\n",
    "        self.fc2 = nn.Linear(hidden_size//2, hidden_size//4)\n",
    "        self.fc3 = nn.Linear(hidden_size//4, hidden_size//8)\n",
    "        self.fc4 = nn.Linear(hidden_size//8, hidden_size//16)\n",
    "        self.fc5 = nn.Linear(hidden_size//16, output_size)\n",
    "        \n",
    "        # Initialize the LSTM weights using Xavier normal initialization\n",
    "        for name, param in self.lstm.named_parameters():\n",
    "            if 'weight' in name:\n",
    "                nn.init.xavier_normal_(param.data, gain=gain)\n",
    "\n",
    "    def forward(self, x):\n",
    "        embedded = self.embedding(x)\n",
    "        output, (h_n, c_n) = self.lstm(embedded)\n",
    "        output = self.dropout(output[:, -1, :])\n",
    "        output = torch.relu_(self.fc1(output))\n",
    "        output = torch.relu_(self.fc2(output))\n",
    "        output = torch.relu_(self.fc3(output))\n",
    "        output = torch.relu_(self.fc4(output))\n",
    "        output = self.fc5(output)\n",
    "        return output.float(), (h_n, c_n)"
   ]
  },
  {
   "cell_type": "code",
   "execution_count": 12,
   "metadata": {},
   "outputs": [],
   "source": [
    "vocab_size = len(vocab)\n",
    "HIDDEN_SIZE = 200\n",
    "NUM_OUTPUTS = 3\n",
    "NUM_LSTM_LAYERS = 2\n",
    "\n",
    "model = LSTMModel(len(vocab), BATCH_SIZE, HIDDEN_SIZE, NUM_OUTPUTS, \n",
    "                  num_lstm_layers=NUM_LSTM_LAYERS, gain=3).to(device)\n",
    "criterion = nn.CrossEntropyLoss()"
   ]
  },
  {
   "cell_type": "code",
   "execution_count": 11,
   "metadata": {},
   "outputs": [
    {
     "data": {
      "image/png": "[encoded data removed]",
      "text/plain": [
       "<Figure size 432x288 with 1 Axes>"
      ]
     },
     "metadata": {
      "needs_background": "light"
     },
     "output_type": "display_data"
    },
    {
     "data": {
      "text/plain": [
       "0.10044754989265563"
      ]
     },
     "execution_count": 11,
     "metadata": {},
     "output_type": "execute_result"
    }
   ],
   "source": [
    "optimizer = optim.Adam(model.parameters(), lr=1e-7)\n",
    "lrfinder = LRFinder(model, optimizer, criterion, device=device)\n",
    "lrfinder.run(train_loader, init_value=1e-7, final_value=1, beta=0.01)\n",
    "best_lr = lrfinder.plot()\n",
    "lrfinder.reset()\n",
    "best_lr"
   ]
  },
  {
   "cell_type": "code",
   "execution_count": null,
   "metadata": {},
   "outputs": [],
   "source": [
    "NUM_EPOCHS = 5\n",
    "# update the optimizer with the learning rate\n",
    "optimizer = optim.Adam(model.parameters(), lr=5e-3)\n",
    "# Create a lr scheduler\n",
    "scheduler = optim.lr_scheduler.ExponentialLR(optimizer, gamma=0.95)\n",
    "writer = tb.SummaryWriter(f\"../../runs/lstm {now}\")\n",
    "train_model(model, criterion, optimizer, writer=writer, scheduler=scheduler,\n",
    "            train_loader=train_loader, test_loader=test_loader, \n",
    "            num_epochs=NUM_EPOCHS, max_norm=1, device=device)"
   ]
  },
  {
   "cell_type": "markdown",
   "metadata": {},
   "source": [
    "### Evaluate LSTM"
   ]
  },
  {
   "cell_type": "code",
   "execution_count": 13,
   "metadata": {},
   "outputs": [
    {
     "name": "stdout",
     "output_type": "stream",
     "text": [
      "Test size: 9353\n",
      "Baseline accuracy: 39.39 %\n",
      "Accuracy: 79.65 %\n"
     ]
    }
   ],
   "source": [
    "test_accuracy(model, test_loader, device)"
   ]
  },
  {
   "cell_type": "code",
   "execution_count": 14,
   "metadata": {},
   "outputs": [],
   "source": [
    "# save model state\n",
    "save_model(model, f'../../models/lstm {now}.pth')"
   ]
  },
  {
   "cell_type": "code",
   "execution_count": 16,
   "metadata": {},
   "outputs": [
    {
     "name": "stdout",
     "output_type": "stream",
     "text": [
      "Test size: 9353\n",
      "Baseline accuracy: 39.39 %\n",
      "Accuracy: 79.65 %\n"
     ]
    }
   ],
   "source": [
    "# load model state\n",
    "model2 = LSTMModel(len(vocab), BATCH_SIZE, HIDDEN_SIZE, NUM_OUTPUTS, \n",
    "                   num_lstm_layers=NUM_LSTM_LAYERS, gain=3)\n",
    "load_model(model2, f'../../models/lstm {now}.pth', device)\n",
    "\n",
    "test_accuracy(model2, test_loader, device)\n",
    "del model2"
   ]
  },
  {
   "attachments": {},
   "cell_type": "markdown",
   "metadata": {},
   "source": [
    "### Train Transformer"
   ]
  },
  {
   "cell_type": "code",
   "execution_count": 17,
   "metadata": {},
   "outputs": [],
   "source": [
    "class PositionalEncoding(nn.Module):\n",
    "    def __init__(self, d_model, dropout=0.1, max_len=100):\n",
    "        super(PositionalEncoding, self).__init__()\n",
    "        self.dropout = nn.Dropout(p=dropout)\n",
    "\n",
    "        pe = torch.zeros(max_len, d_model)\n",
    "        position = torch.arange(0, max_len, dtype=torch.float).unsqueeze(1)\n",
    "        div_term = torch.exp(torch.arange(0, d_model, 2).float() * (-torch.log(torch.tensor(10000.0)) / d_model))\n",
    "        pe[:, 0::2] = torch.sin(position * div_term)\n",
    "        pe[:, 1::2] = torch.cos(position * div_term)\n",
    "        pe = pe.unsqueeze(0).transpose(0, 1)\n",
    "        self.register_buffer('pe', pe)\n",
    "\n",
    "    def forward(self, x):\n",
    "        x = x + self.pe[:x.size(0), :]\n",
    "        return self.dropout(x)\n",
    "\n",
    "\n",
    "class TransformerModel(nn.Module):\n",
    "    def __init__(self, vocab_size, embedding_size, hidden_size, hidden_size2, hidden_size3, output_size):\n",
    "        super().__init__()\n",
    "        \n",
    "        self.embedding = nn.Embedding(vocab_size, embedding_size)\n",
    "        self.pos_encoder = PositionalEncoding(embedding_size)\n",
    "        encoder_layer = nn.TransformerEncoderLayer(embedding_size, nhead=4, dim_feedforward=hidden_size)\n",
    "        self.encoder = nn.TransformerEncoder(encoder_layer, num_layers=4)\n",
    "        self.pooling = nn.AdaptiveMaxPool1d(1)\n",
    "        self.fc1 = nn.Linear(hidden_size, hidden_size2)\n",
    "        self.fc2 = nn.Linear(hidden_size2, hidden_size3)\n",
    "        self.fc3 = nn.Linear(hidden_size3, output_size)\n",
    "        self.dropout = nn.Dropout(0.3)\n",
    "\n",
    "    def forward(self, x):\n",
    "        embedded = self.embedding(x)\n",
    "        embedded = self.pos_encoder(embedded)\n",
    "        encoded = self.encoder(embedded)\n",
    "        pooled = self.pooling(encoded.permute(0, 2, 1)).squeeze(-1)\n",
    "        fc_out = F.relu(self.fc1(pooled))\n",
    "        fc_out = F.relu(self.fc2(self.dropout(fc_out)))\n",
    "        output = self.fc3(self.dropout(fc_out))\n",
    "        return output"
   ]
  },
  {
   "cell_type": "code",
   "execution_count": 18,
   "metadata": {},
   "outputs": [],
   "source": [
    "vocab_size = len(vocab)\n",
    "embedding_size = 512\n",
    "hidden_size = 512\n",
    "hidden_size2 = 256\n",
    "hidden_size3 = 128\n",
    "output_size = 3\n",
    "\n",
    "model = TransformerModel(vocab_size, embedding_size, hidden_size, hidden_size2, \n",
    "                         hidden_size3, output_size)\n",
    "model = model.to(device=device)"
   ]
  },
  {
   "cell_type": "code",
   "execution_count": 19,
   "metadata": {},
   "outputs": [
    {
     "data": {
      "image/png": "[encoded data removed]",
      "text/plain": [
       "<Figure size 432x288 with 1 Axes>"
      ]
     },
     "metadata": {
      "needs_background": "light"
     },
     "output_type": "display_data"
    },
    {
     "data": {
      "text/plain": [
       "0.010197997569961401"
      ]
     },
     "execution_count": 19,
     "metadata": {},
     "output_type": "execute_result"
    }
   ],
   "source": [
    "criterion = nn.CrossEntropyLoss()\n",
    "optimizer = optim.Adam(model.parameters(), lr=1e-7, weight_decay=1e-4)\n",
    "lrfinder = LRFinder(model, optimizer, criterion, device=device)\n",
    "lrfinder.run(train_loader, init_value=1e-7, final_value=1, beta=0.01)\n",
    "best_lr = lrfinder.plot()\n",
    "lrfinder.reset()\n",
    "best_lr"
   ]
  },
  {
   "cell_type": "code",
   "execution_count": 20,
   "metadata": {},
   "outputs": [
    {
     "data": {
      "application/vnd.jupyter.widget-view+json": {
       "model_id": "c439a574433949ba8915c1dadd5c69ef",
       "version_major": 2,
       "version_minor": 0
      },
      "text/plain": [
       "  0%|          | 0/60500 [00:00<?, ?it/s]"
      ]
     },
     "metadata": {},
     "output_type": "display_data"
    },
    {
     "data": {
      "application/vnd.jupyter.widget-view+json": {
       "model_id": "b9ed0e26ab944aad894a879f92343d52",
       "version_major": 2,
       "version_minor": 0
      },
      "text/plain": [
       "  0%|          | 0/20 [00:00<?, ?it/s]"
      ]
     },
     "metadata": {},
     "output_type": "display_data"
    }
   ],
   "source": [
    "NUM_EPOCHS = 20\n",
    "# update the optimizer with the learning rate\n",
    "optimizer = optim.Adam(model.parameters(), lr=6e-5, weight_decay=1e-6)\n",
    "scheduler = optim.lr_scheduler.ExponentialLR(optimizer, gamma=0.95)\n",
    "\n",
    "writer = tb.SummaryWriter(f\"../../runs/transformer {now}\")\n",
    "train_model(model, criterion, optimizer, writer=writer, scheduler=scheduler,\n",
    "            train_loader=train_loader, test_loader=test_loader, \n",
    "            num_epochs=NUM_EPOCHS, max_norm=5, device=device)"
   ]
  },
  {
   "attachments": {},
   "cell_type": "markdown",
   "metadata": {},
   "source": [
    "### Evaluate Transformer"
   ]
  },
  {
   "cell_type": "code",
   "execution_count": 22,
   "metadata": {},
   "outputs": [
    {
     "name": "stdout",
     "output_type": "stream",
     "text": [
      "Test size: 9353\n",
      "Baseline accuracy: 39.39 %\n",
      "Accuracy: 80.66 %\n"
     ]
    }
   ],
   "source": [
    "test_accuracy(model, test_loader, device)"
   ]
  },
  {
   "cell_type": "code",
   "execution_count": 23,
   "metadata": {},
   "outputs": [],
   "source": [
    "# save model state\n",
    "save_model(model, f'../../models/transformer {now}.pth')"
   ]
  },
  {
   "cell_type": "code",
   "execution_count": 25,
   "metadata": {},
   "outputs": [
    {
     "data": {
      "text/plain": [
       "TransformerModel(\n",
       "  (embedding): Embedding(14443, 512)\n",
       "  (pos_encoder): PositionalEncoding(\n",
       "    (dropout): Dropout(p=0.1, inplace=False)\n",
       "  )\n",
       "  (encoder): TransformerEncoder(\n",
       "    (layers): ModuleList(\n",
       "      (0-3): 4 x TransformerEncoderLayer(\n",
       "        (self_attn): MultiheadAttention(\n",
       "          (out_proj): NonDynamicallyQuantizableLinear(in_features=512, out_features=512, bias=True)\n",
       "        )\n",
       "        (linear1): Linear(in_features=512, out_features=512, bias=True)\n",
       "        (dropout): Dropout(p=0.1, inplace=False)\n",
       "        (linear2): Linear(in_features=512, out_features=512, bias=True)\n",
       "        (norm1): LayerNorm((512,), eps=1e-05, elementwise_affine=True)\n",
       "        (norm2): LayerNorm((512,), eps=1e-05, elementwise_affine=True)\n",
       "        (dropout1): Dropout(p=0.1, inplace=False)\n",
       "        (dropout2): Dropout(p=0.1, inplace=False)\n",
       "      )\n",
       "    )\n",
       "  )\n",
       "  (pooling): AdaptiveMaxPool1d(output_size=1)\n",
       "  (fc1): Linear(in_features=512, out_features=256, bias=True)\n",
       "  (fc2): Linear(in_features=256, out_features=128, bias=True)\n",
       "  (fc3): Linear(in_features=128, out_features=3, bias=True)\n",
       "  (dropout): Dropout(p=0.3, inplace=False)\n",
       ")"
      ]
     },
     "execution_count": 25,
     "metadata": {},
     "output_type": "execute_result"
    }
   ],
   "source": [
    "# load model state\n",
    "model = TransformerModel(vocab_size, embedding_size, hidden_size, hidden_size2, hidden_size3, output_size)\n",
    "load_model(model, f'../../models/transformer {now}.pth', device)\n",
    "test_accuracy(model, test_loader, device)"
   ]
  },
  {
   "cell_type": "code",
   "execution_count": 26,
   "metadata": {},
   "outputs": [
    {
     "name": "stdout",
     "output_type": "stream",
     "text": [
      "Positive: Positive\n",
      "Neutral: Neutral\n",
      "Negative: Neutral\n"
     ]
    }
   ],
   "source": [
    "def predict_str(model, sentence):\n",
    "    model.eval()\n",
    "    with torch.no_grad():\n",
    "        tokens = feature_pipeline(sentence, vocab)\n",
    "        tokens = tokens.to(device=device)\n",
    "        preds = model(tokens.unsqueeze(0))\n",
    "        probs = torch.nn.functional.softmax(preds, dim=1)\n",
    "        yhat = probs.argmax(dim=1)\n",
    "        return ID_TO_SENTIMENT[yhat.item()]\n",
    "    \n",
    "\n",
    "pos = predict_str(model, \"Inflation stable as the stock bull market continues\")\n",
    "neu = predict_str(model, \"Stock market finished side-ways for the day as GDP reports are released\")\n",
    "neg = predict_str(model, \"Inflation on all time high as the stocks keep crashing\")\n",
    "print(f\"Positive: {pos}\\nNeutral: {neu}\\nNegative: {neg}\")"
   ]
  },
  {
   "cell_type": "code",
   "execution_count": null,
   "metadata": {},
   "outputs": [],
   "source": [
    "import pickle\n",
    "# save vocab\n",
    "with open(f'../../models/vocab {now}.pkl', 'wb') as f:\n",
    "    pickle.dump(vocab, f)"
   ]
  }
 ],
 "metadata": {
  "kernelspec": {
   "display_name": "Python 3",
   "language": "python",
   "name": "python3"
  },
  "language_info": {
   "codemirror_mode": {
    "name": "ipython",
    "version": 3
   },
   "file_extension": ".py",
   "mimetype": "text/x-python",
   "name": "python",
   "nbconvert_exporter": "python",
   "pygments_lexer": "ipython3",
   "version": "3.10.5"
  },
  "orig_nbformat": 4
 },
 "nbformat": 4,
 "nbformat_minor": 2
}
