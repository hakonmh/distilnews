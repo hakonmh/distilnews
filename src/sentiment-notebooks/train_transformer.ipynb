{
 "cells": [
  {
   "attachments": {},
   "cell_type": "markdown",
   "metadata": {},
   "source": [
    "# Train Hugginface Transformer\n",
    "\n",
    "Trains a ALBERT Transformer from huggingface on the sentiment dataset"
   ]
  },
  {
   "cell_type": "code",
   "execution_count": 1,
   "metadata": {},
   "outputs": [],
   "source": [
    "# To allow importing modules from src\n",
    "import sys\n",
    "import os\n",
    "\n",
    "# Get the absolute path of the 'src' directory\n",
    "src_dir = os.path.abspath(os.path.join(os.getcwd(), os.pardir))\n",
    "\n",
    "# Add 'src' directory to the Python path\n",
    "if src_dir not in sys.path:\n",
    "    sys.path.append(src_dir)"
   ]
  },
  {
   "cell_type": "code",
   "execution_count": 2,
   "metadata": {},
   "outputs": [],
   "source": [
    "# Import necessary libraries\n",
    "import itertools\n",
    "import datetime\n",
    "\n",
    "import torch\n",
    "from torch.utils.data import DataLoader\n",
    "from torch.utils import tensorboard as tb # To run: tensorboard --logdir=runs\n",
    "from transformers import AutoTokenizer, AutoModelForSequenceClassification, get_scheduler\n",
    "\n",
    "from tqdm.auto import tqdm\n",
    "\n",
    "from lr_finder import LRFinder\n",
    "from helpers import (\n",
    "    SentimentDataset, SENTIMENT_TO_ID, ID_TO_SENTIMENT, \n",
    "    save_model, load_model, test_accuracy\n",
    ")"
   ]
  },
  {
   "cell_type": "markdown",
   "metadata": {},
   "source": [
    "### Constants and hyperparameters"
   ]
  },
  {
   "cell_type": "code",
   "execution_count": 3,
   "metadata": {},
   "outputs": [],
   "source": [
    "# Which transformer model to use? Alternatives: albert-base-v2\", \"albert-large-v2\", \n",
    "# \"roberta-base\", \"distilbert-base-uncased\", \"bart-base\", \"fnet-base\", \"bert-base-uncased\"\n",
    "MODEL_NAME = \"distilbert-base-uncased\"  \n",
    "MAX_LEN = 35  # Sentence length for padding\n",
    "\n",
    "NUM_EPOCHS = 3\n",
    "LR = 10e-5\n",
    "WEIGHT_DECAY = 10e-6\n",
    "SMOOTHING = 0.05  # Smoothing factor for label smoothing\n",
    "BATCH_SIZE = 50\n",
    "\n",
    "device = torch.device(\"cuda\") if torch.cuda.is_available() else torch.device(\"cpu\")\n",
    "_now = datetime.datetime.now().strftime(\"%Y-%m-%d %H-%M-%S\")\n",
    "file_name = f'{MODEL_NAME} {_now}'"
   ]
  },
  {
   "cell_type": "markdown",
   "metadata": {},
   "source": [
    "### Training Helper Functions"
   ]
  },
  {
   "cell_type": "code",
   "execution_count": 4,
   "metadata": {},
   "outputs": [],
   "source": [
    "def collate_batch(batch, tokenizer, max_length=25):\n",
    "    \"\"\"Process a batch of data to its proper form.\"\"\"\n",
    "    # Feature should be batch_size * num_words * num_vocabs\n",
    "    features, labels = zip(*batch)\n",
    "    features = tokenizer(features, add_special_tokens=True, max_length=max_length, \n",
    "                         padding=\"max_length\", truncation=True, return_tensors=\"pt\")\n",
    "    labels = torch.stack(labels)\n",
    "    return features, labels"
   ]
  },
  {
   "cell_type": "code",
   "execution_count": 5,
   "metadata": {},
   "outputs": [],
   "source": [
    "def train_model(\n",
    "    model, optimizer, train_loader, test_loader, writer, num_epochs, \n",
    "    scheduler=None, criterion=None, device='cuda', start_iter=0\n",
    "):\n",
    "    test_iter = itertools.cycle(iter(test_loader))\n",
    "    num_batches = len(train_loader)\n",
    "    writer.add_text('Hyperparameters', f'num_epochs: {num_epochs}, num_batches: {num_batches}')\n",
    "\n",
    "    progress_bar = tqdm(range(num_epochs*num_batches))\n",
    "    epoch_bar = tqdm(range(num_epochs))\n",
    "    for epoch in range(0, num_epochs):\n",
    "        batch_idx = 0\n",
    "        for train_batch in train_loader:\n",
    "            train_loss, train_accuracy = _train_one_round(train_batch, model, optimizer, \n",
    "                                                          scheduler, criterion, device)\n",
    "\n",
    "            if batch_idx % 10 == 0:\n",
    "                test_batch = next(test_iter)\n",
    "                test_loss, test_accuracy = _evaluate_one_round(test_batch, model, device)\n",
    "                gradient_norm = _get_gradient_norm(model)\n",
    "                lr = _get_learning_rate(optimizer, scheduler)\n",
    "\n",
    "                n_iter = batch_idx + num_batches * epoch + start_iter\n",
    "                _write_to_tboard(writer, n_iter, train_loss, test_loss, train_accuracy, \n",
    "                                 test_accuracy, gradient_norm, lr)\n",
    "            batch_idx += 1\n",
    "            progress_bar.update(1)\n",
    "        epoch_bar.update(1)\n",
    "\n",
    "\n",
    "def _train_one_round(batch, model, optimizer, scheduler=None, criterion=None, device='cuda'):\n",
    "    optimizer.zero_grad()\n",
    "    features, targets = batch\n",
    "    features = features.to(device=device)\n",
    "    targets = targets.to(device=device)\n",
    "\n",
    "    output = model(**features, labels=targets)\n",
    "    if criterion:\n",
    "        loss = criterion(output.logits, targets)\n",
    "    else:\n",
    "        loss = output.loss\n",
    "    loss.backward()\n",
    "    optimizer.step()\n",
    "    if scheduler is not None:\n",
    "        scheduler.step()\n",
    "\n",
    "    accuracy = _accuracy(output, targets)\n",
    "    del features, targets, output\n",
    "    return loss, accuracy\n",
    "\n",
    "\n",
    "def _evaluate_one_round(batch, model, device='cuda'):\n",
    "    features, targets = batch\n",
    "    features = features.to(device=device)\n",
    "    targets = targets.to(device=device)\n",
    "\n",
    "    with torch.no_grad():\n",
    "        output = model(**features, labels=targets)\n",
    "        loss = output.loss\n",
    "        accuracy = _accuracy(output, targets)\n",
    "    del features, targets, output\n",
    "    return loss, accuracy\n",
    "\n",
    "\n",
    "def _accuracy(output, target):\n",
    "    with torch.no_grad():\n",
    "        logits = output.logits\n",
    "        probs = torch.nn.functional.softmax(logits, dim=1)\n",
    "        accuracy = (probs.argmax(dim=1) == target).sum().item() / len(target)\n",
    "    return accuracy\n",
    "\n",
    "\n",
    "def _get_gradient_norm(model):\n",
    "    \"\"\"Computes the gradient norm of a model. I.e. the sum of the size of all gradients\"\"\"\n",
    "    total_norm = 0\n",
    "    for p in model.parameters():\n",
    "        param_norm = p.grad.norm(2)\n",
    "        total_norm += param_norm.item() ** 2\n",
    "    total_norm = total_norm ** 0.5\n",
    "    return total_norm\n",
    "\n",
    "\n",
    "def _get_learning_rate(optimizer, scheduler):\n",
    "    if scheduler:\n",
    "        lr = torch.log10(torch.tensor(scheduler.get_last_lr()[0])).item()\n",
    "    else:\n",
    "        lr = torch.log10(torch.tensor(optimizer.param_groups[0]['lr'])).item()\n",
    "    return lr\n",
    "\n",
    "\n",
    "def _write_to_tboard(writer, n_iter, train_loss, test_loss, \n",
    "                     train_accuracy, test_accuracy, gradient_norm, lr=None):\n",
    "    writer.add_scalar('Train loss', train_loss, n_iter)\n",
    "    writer.add_scalar('Test loss', test_loss, n_iter)\n",
    "    writer.add_scalar('Train accuracy', train_accuracy, n_iter)\n",
    "    writer.add_scalar('Test accuracy', test_accuracy, n_iter)\n",
    "    writer.add_scalar('Gradient norm', gradient_norm, n_iter)\n",
    "    if lr:\n",
    "        writer.add_scalar('Log learning rate', lr, n_iter)"
   ]
  },
  {
   "cell_type": "code",
   "execution_count": 6,
   "metadata": {},
   "outputs": [],
   "source": [
    "class LabelSmoothingLoss(torch.nn.Module):\n",
    "    def __init__(self, num_labels, smoothing=0.1, dim=-1):\n",
    "        super(LabelSmoothingLoss, self).__init__()\n",
    "        self.confidence = 1.0 - smoothing\n",
    "        self.smoothing = smoothing\n",
    "        self.num_labels = num_labels\n",
    "        self.dim = dim\n",
    "\n",
    "    def forward(self, pred, target):\n",
    "        pred = pred.log_softmax(dim=self.dim)\n",
    "        with torch.no_grad():\n",
    "            true_dist = torch.zeros_like(pred)\n",
    "            true_dist.fill_(self.smoothing / (self.num_labels - 1))\n",
    "            true_dist.scatter_(1, target.data.unsqueeze(1), self.confidence)\n",
    "        return torch.mean(torch.sum(-true_dist * pred, dim=self.dim))"
   ]
  },
  {
   "attachments": {},
   "cell_type": "markdown",
   "metadata": {},
   "source": [
    "### Load model and data"
   ]
  },
  {
   "cell_type": "code",
   "execution_count": 10,
   "metadata": {},
   "outputs": [
    {
     "name": "stderr",
     "output_type": "stream",
     "text": [
      "Some weights of the model checkpoint at distilbert-base-uncased were not used when initializing DistilBertForSequenceClassification: ['vocab_projector.weight', 'vocab_layer_norm.weight', 'vocab_transform.weight', 'vocab_transform.bias', 'vocab_layer_norm.bias', 'vocab_projector.bias']\n",
      "- This IS expected if you are initializing DistilBertForSequenceClassification from the checkpoint of a model trained on another task or with another architecture (e.g. initializing a BertForSequenceClassification model from a BertForPreTraining model).\n",
      "- This IS NOT expected if you are initializing DistilBertForSequenceClassification from the checkpoint of a model that you expect to be exactly identical (initializing a BertForSequenceClassification model from a BertForSequenceClassification model).\n",
      "Some weights of DistilBertForSequenceClassification were not initialized from the model checkpoint at distilbert-base-uncased and are newly initialized: ['classifier.weight', 'pre_classifier.weight', 'pre_classifier.bias', 'classifier.bias']\n",
      "You should probably TRAIN this model on a down-stream task to be able to use it for predictions and inference.\n"
     ]
    }
   ],
   "source": [
    "tokenizer = AutoTokenizer.from_pretrained(MODEL_NAME, padding=\"max_length\", truncation=True)\n",
    "model = AutoModelForSequenceClassification.from_pretrained(\n",
    "    MODEL_NAME, num_labels=3, id2label=ID_TO_SENTIMENT, label2id=SENTIMENT_TO_ID\n",
    ")\n",
    "model = model.to(device)\n",
    "loss_fn = None\n",
    "# loss_fn = LabelSmoothingLoss(num_labels=3, smoothing=SMOOTHING)"
   ]
  },
  {
   "cell_type": "code",
   "execution_count": 8,
   "metadata": {},
   "outputs": [],
   "source": [
    "train_set = SentimentDataset('../../data/fixed-data/sentiment-train.csv')\n",
    "test_set = SentimentDataset('../../data/fixed-data/sentiment-val.csv')\n",
    "\n",
    "train_loader = DataLoader(train_set, batch_size=BATCH_SIZE, shuffle=True, \n",
    "                          collate_fn=lambda x: collate_batch(x, tokenizer, max_length=MAX_LEN))\n",
    "test_loader = DataLoader(test_set, batch_size=BATCH_SIZE, shuffle=True, \n",
    "                         collate_fn=lambda x: collate_batch(x, tokenizer, max_length=MAX_LEN))"
   ]
  },
  {
   "cell_type": "markdown",
   "metadata": {},
   "source": [
    "### Training"
   ]
  },
  {
   "cell_type": "code",
   "execution_count": 9,
   "metadata": {},
   "outputs": [
    {
     "data": {
      "image/png": "[encoded data removed]",
      "text/plain": [
       "<Figure size 432x288 with 1 Axes>"
      ]
     },
     "metadata": {
      "needs_background": "light"
     },
     "output_type": "display_data"
    },
    {
     "data": {
      "text/plain": [
       "0.00035743359351975346"
      ]
     },
     "execution_count": 9,
     "metadata": {},
     "output_type": "execute_result"
    }
   ],
   "source": [
    "optimizer = torch.optim.AdamW(model.parameters(), lr=1e-8, weight_decay=WEIGHT_DECAY)\n",
    "lrfinder = LRFinder(model, optimizer, criterion=loss_fn, device=device)\n",
    "lrfinder.run(train_loader, init_value=1e-8, final_value=1, beta=0.02)\n",
    "best_lr = lrfinder.plot()\n",
    "lrfinder.reset()\n",
    "best_lr"
   ]
  },
  {
   "cell_type": "code",
   "execution_count": 11,
   "metadata": {},
   "outputs": [
    {
     "data": {
      "application/vnd.jupyter.widget-view+json": {
       "model_id": "f22cd79611774cfc8849c5852e0e6c78",
       "version_major": 2,
       "version_minor": 0
      },
      "text/plain": [
       "  0%|          | 0/37244 [00:00<?, ?it/s]"
      ]
     },
     "metadata": {},
     "output_type": "display_data"
    },
    {
     "data": {
      "application/vnd.jupyter.widget-view+json": {
       "model_id": "f0d5c5a4d6044920a03eb76892bcaba8",
       "version_major": 2,
       "version_minor": 0
      },
      "text/plain": [
       "  0%|          | 0/4 [00:00<?, ?it/s]"
      ]
     },
     "metadata": {},
     "output_type": "display_data"
    }
   ],
   "source": [
    "optimizer = torch.optim.AdamW(model.parameters(), lr=LR, weight_decay=WEIGHT_DECAY)\n",
    "lr_scheduler = get_scheduler(\n",
    "    name=\"linear\", \n",
    "    optimizer=optimizer, \n",
    "    num_warmup_steps=0, \n",
    "    num_training_steps=NUM_EPOCHS * len(train_loader)\n",
    ")\n",
    "\n",
    "writer = tb.SummaryWriter(f'../../runs/{file_name}')\n",
    "train_model(model, optimizer, scheduler=lr_scheduler, criterion=loss_fn,\n",
    "            num_epochs=NUM_EPOCHS, train_loader=train_loader, test_loader=test_loader, \n",
    "            device=device, writer=writer)"
   ]
  },
  {
   "attachments": {},
   "cell_type": "markdown",
   "metadata": {},
   "source": [
    "### Storing and Evaluating the Model"
   ]
  },
  {
   "cell_type": "code",
   "execution_count": 12,
   "metadata": {},
   "outputs": [],
   "source": [
    "save_model(model, f'../../models/{file_name}.pth')"
   ]
  },
  {
   "cell_type": "code",
   "execution_count": 13,
   "metadata": {},
   "outputs": [
    {
     "name": "stdout",
     "output_type": "stream",
     "text": [
      "Test size: 14398\n",
      "Baseline accuracy: 36.46 %\n",
      "Accuracy: 93.11 %\n"
     ]
    }
   ],
   "source": [
    "test_accuracy(model, test_loader, device=device)"
   ]
  },
  {
   "cell_type": "code",
   "execution_count": 14,
   "metadata": {},
   "outputs": [
    {
     "name": "stdout",
     "output_type": "stream",
     "text": [
      "Positive: Neutral\n",
      "Neutral: Neutral\n",
      "Negative: Negative\n"
     ]
    }
   ],
   "source": [
    "def predict_str(model, sentence):\n",
    "    model.eval()\n",
    "    with torch.no_grad():\n",
    "        tokens = sentence_pipeline(sentence)\n",
    "        tokens = tokens.to(device=device)\n",
    "        preds = model(**tokens)\n",
    "        probs = torch.nn.functional.softmax(preds.logits, dim=1)\n",
    "        yhat = probs.argmax(dim=1)\n",
    "        return ID_TO_SENTIMENT[yhat.item()]\n",
    "    \n",
    "\n",
    "def sentence_pipeline(sentence):\n",
    "    features = tokenizer([sentence], add_special_tokens=True, max_length=25, \n",
    "                         padding=\"max_length\", truncation=True, return_tensors=\"pt\")\n",
    "    return features\n",
    "    \n",
    "\n",
    "pos = predict_str(model, \"Inflation stable as the stock market rises to an all time high\")\n",
    "neu = predict_str(model, \"Stock market finished side-ways for the day as GDP reports are released\")\n",
    "neg = predict_str(model, \"Inflation on all time high as the stocks keep crashing\")\n",
    "print(f\"Positive: {pos}\\nNeutral: {neu}\\nNegative: {neg}\")"
   ]
  },
  {
   "cell_type": "code",
   "execution_count": 15,
   "metadata": {},
   "outputs": [
    {
     "name": "stderr",
     "output_type": "stream",
     "text": [
      "Some weights of the model checkpoint at distilbert-base-uncased were not used when initializing DistilBertForSequenceClassification: ['vocab_projector.weight', 'vocab_layer_norm.weight', 'vocab_transform.weight', 'vocab_transform.bias', 'vocab_layer_norm.bias', 'vocab_projector.bias']\n",
      "- This IS expected if you are initializing DistilBertForSequenceClassification from the checkpoint of a model trained on another task or with another architecture (e.g. initializing a BertForSequenceClassification model from a BertForPreTraining model).\n",
      "- This IS NOT expected if you are initializing DistilBertForSequenceClassification from the checkpoint of a model that you expect to be exactly identical (initializing a BertForSequenceClassification model from a BertForSequenceClassification model).\n",
      "Some weights of DistilBertForSequenceClassification were not initialized from the model checkpoint at distilbert-base-uncased and are newly initialized: ['classifier.weight', 'pre_classifier.weight', 'pre_classifier.bias', 'classifier.bias']\n",
      "You should probably TRAIN this model on a down-stream task to be able to use it for predictions and inference.\n"
     ]
    }
   ],
   "source": [
    "# To load a previously saved model\n",
    "model = AutoModelForSequenceClassification.from_pretrained(MODEL_NAME, num_labels=3)\n",
    "tokenizer = AutoTokenizer.from_pretrained(MODEL_NAME, padding=\"max_length\", truncation=True)\n",
    "model = load_model(model, '../../models/distilbert-base-uncased 2023-05-05 11-17-06.pth', device)"
   ]
  }
 ],
 "metadata": {
  "kernelspec": {
   "display_name": "Python 3 (ipykernel)",
   "language": "python",
   "name": "python3"
  },
  "language_info": {
   "codemirror_mode": {
    "name": "ipython",
    "version": 3
   },
   "file_extension": ".py",
   "mimetype": "text/x-python",
   "name": "python",
   "nbconvert_exporter": "python",
   "pygments_lexer": "ipython3",
   "version": "3.10.5"
  },
  "orig_nbformat": 4
 },
 "nbformat": 4,
 "nbformat_minor": 2
}
