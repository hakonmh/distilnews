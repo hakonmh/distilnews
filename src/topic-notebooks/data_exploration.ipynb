{
 "cells": [
  {
   "attachments": {},
   "cell_type": "markdown",
   "metadata": {},
   "source": [
    "# Topic Data Exploration"
   ]
  },
  {
   "cell_type": "code",
   "execution_count": 1,
   "metadata": {},
   "outputs": [],
   "source": [
    "import pandas as pd\n",
    "import numpy as np\n",
    "import matplotlib.pyplot as plt\n",
    "import seaborn as sns"
   ]
  },
  {
   "cell_type": "markdown",
   "metadata": {},
   "source": [
    "## Raw Data\n",
    "\n",
    "First let's look at some of the raw data we know is mostly financial text."
   ]
  },
  {
   "cell_type": "code",
   "execution_count": 2,
   "metadata": {},
   "outputs": [
    {
     "data": {
      "text/html": [
       "<div>\n",
       "<style scoped>\n",
       "    .dataframe tbody tr th:only-of-type {\n",
       "        vertical-align: middle;\n",
       "    }\n",
       "\n",
       "    .dataframe tbody tr th {\n",
       "        vertical-align: top;\n",
       "    }\n",
       "\n",
       "    .dataframe thead th {\n",
       "        text-align: right;\n",
       "    }\n",
       "</style>\n",
       "<table border=\"1\" class=\"dataframe\">\n",
       "  <thead>\n",
       "    <tr style=\"text-align: right;\">\n",
       "      <th></th>\n",
       "      <th>Headlines</th>\n",
       "      <th>Manual Sentiment</th>\n",
       "      <th>GPT Sentiment</th>\n",
       "      <th>Topic</th>\n",
       "    </tr>\n",
       "  </thead>\n",
       "  <tbody>\n",
       "    <tr>\n",
       "      <th>0</th>\n",
       "      <td>Besides we have increased the share of meat in...</td>\n",
       "      <td>Positive</td>\n",
       "      <td>Neutral</td>\n",
       "      <td>Other</td>\n",
       "    </tr>\n",
       "    <tr>\n",
       "      <th>1</th>\n",
       "      <td>Both operating profit and net sales for the 12...</td>\n",
       "      <td>Positive</td>\n",
       "      <td>Positive</td>\n",
       "      <td>Economics</td>\n",
       "    </tr>\n",
       "    <tr>\n",
       "      <th>2</th>\n",
       "      <td>Both operating profit and net sales for the 12...</td>\n",
       "      <td>Positive</td>\n",
       "      <td>Positive</td>\n",
       "      <td>Economics</td>\n",
       "    </tr>\n",
       "    <tr>\n",
       "      <th>3</th>\n",
       "      <td>Both operating profit and net sales for the 12...</td>\n",
       "      <td>Positive</td>\n",
       "      <td>Positive</td>\n",
       "      <td>Economics</td>\n",
       "    </tr>\n",
       "    <tr>\n",
       "      <th>4</th>\n",
       "      <td>Both operating profit and net sales for the 12...</td>\n",
       "      <td>Positive</td>\n",
       "      <td>Positive</td>\n",
       "      <td>Economics</td>\n",
       "    </tr>\n",
       "  </tbody>\n",
       "</table>\n",
       "</div>"
      ],
      "text/plain": [
       "                                           Headlines Manual Sentiment  \\\n",
       "0  Besides we have increased the share of meat in...         Positive   \n",
       "1  Both operating profit and net sales for the 12...         Positive   \n",
       "2  Both operating profit and net sales for the 12...         Positive   \n",
       "3  Both operating profit and net sales for the 12...         Positive   \n",
       "4  Both operating profit and net sales for the 12...         Positive   \n",
       "\n",
       "  GPT Sentiment      Topic  \n",
       "0       Neutral      Other  \n",
       "1      Positive  Economics  \n",
       "2      Positive  Economics  \n",
       "3      Positive  Economics  \n",
       "4      Positive  Economics  "
      ]
     },
     "execution_count": 2,
     "metadata": {},
     "output_type": "execute_result"
    }
   ],
   "source": [
    "# One of the datasets labelled both by human classifiers and chat-gpt\n",
    "fin_df = pd.read_csv('../../data/classified-data/financial_phrasebank.csv')\n",
    "fin_df = fin_df[['Headlines','Manual Sentiment', 'GPT Sentiment', 'Topic']]\n",
    "fin_df.head()"
   ]
  },
  {
   "cell_type": "code",
   "execution_count": 3,
   "metadata": {},
   "outputs": [
    {
     "data": {
      "text/plain": [
       "Economics    0.84544\n",
       "Other        0.15456\n",
       "Name: Topic, dtype: float64"
      ]
     },
     "execution_count": 3,
     "metadata": {},
     "output_type": "execute_result"
    }
   ],
   "source": [
    "fin_df['Topic'].value_counts() / len(fin_df)"
   ]
  },
  {
   "cell_type": "code",
   "execution_count": 4,
   "metadata": {},
   "outputs": [
    {
     "data": {
      "image/png": "[encoded data removed]",
      "text/plain": [
       "<Figure size 432x288 with 2 Axes>"
      ]
     },
     "metadata": {
      "needs_background": "light"
     },
     "output_type": "display_data"
    }
   ],
   "source": [
    "confusion_matrix = fin_df.groupby(['Topic', 'Manual Sentiment']).size().unstack(fill_value=0)\n",
    "confusion_matrix = confusion_matrix / confusion_matrix.sum()\n",
    "\n",
    "sns.heatmap(confusion_matrix, annot=True, fmt='.2%', cmap='Blues')\n",
    "plt.title('GPT Topic vs Manual Sentiment')\n",
    "plt.text(0.5, 0.4, 'Neutral more \\nlikely to be \\nmisclassified', \n",
    "         horizontalalignment='center', verticalalignment='center', \n",
    "         transform=plt.gca().transAxes, fontsize=10, color='g')\n",
    "plt.show()"
   ]
  },
  {
   "cell_type": "code",
   "execution_count": 5,
   "metadata": {},
   "outputs": [
    {
     "name": "stdout",
     "output_type": "stream",
     "text": [
      "\u001b[1mHuman sentiment: Neutral, GPT topic: Other\u001b[0m\n",
      "  \"Founded in 1985, Quatrocon's clientele consists of public sector builders, central trading companies and major construction firms.\"\n",
      "  \"Today, we are connecting people in new and different ways - fusing advanced mobile technology with personalized services to enable people to stay close to what matters to them.\"\n",
      "  \"In April 2010, Olvi's range of ciders will expand with a strawberry-rhubarb and an apple-pear cider in green bottles with a new shape.\"\n",
      "  \"Rapala Fishing Frenzy 2009.\"\n",
      "  \"In his current position, Manty has worked since 1996.\"\n",
      "  \"ALEXANDRIA, Va., Dec. 22 -- United States Patent no. 7,854,608, issued on Dec. 21, was assigned to Outotec Oyj ( Espoo, Finland ).\"\n",
      "  \"Most recently, he founded Virent Energy Systems, Inc., an 80 person catalytic biofuels company, where, as president and CEO, he led the company through multiple financings, defined the company's market strategy, and secured the company's first customers.\"\n",
      "  \"An of the invention, released by the Patent Office, said : `` A non-coherent search matrix is formed of said correlation function matrix.\"\n",
      "  \"Pertti Ervi is independent from the Company and its major shareholders.\"\n",
      "  \"Activities range from the development of natural resources to the retailed marketing of finished products.\"\n"
     ]
    }
   ],
   "source": [
    "neu_oth = fin_df[(fin_df['Manual Sentiment'] == 'Neutral') & (fin_df['Topic'] == 'Other')]\n",
    "neu_oth = neu_oth['Headlines'].sample(10).values.tolist()\n",
    "\n",
    "print('\\033[1m' + 'Human sentiment: Neutral, GPT topic: Other' + '\\033[0m')\n",
    "for row in neu_oth:\n",
    "    print(f'  \"{row}\"')"
   ]
  },
  {
   "attachments": {},
   "cell_type": "markdown",
   "metadata": {},
   "source": [
    "Let us also look at some data we know aren't financial text."
   ]
  },
  {
   "cell_type": "code",
   "execution_count": 6,
   "metadata": {},
   "outputs": [
    {
     "data": {
      "text/html": [
       "<div>\n",
       "<style scoped>\n",
       "    .dataframe tbody tr th:only-of-type {\n",
       "        vertical-align: middle;\n",
       "    }\n",
       "\n",
       "    .dataframe tbody tr th {\n",
       "        vertical-align: top;\n",
       "    }\n",
       "\n",
       "    .dataframe thead th {\n",
       "        text-align: right;\n",
       "    }\n",
       "</style>\n",
       "<table border=\"1\" class=\"dataframe\">\n",
       "  <thead>\n",
       "    <tr style=\"text-align: right;\">\n",
       "      <th></th>\n",
       "      <th>Headlines</th>\n",
       "      <th>GPT Sentiment</th>\n",
       "      <th>Topic</th>\n",
       "    </tr>\n",
       "  </thead>\n",
       "  <tbody>\n",
       "    <tr>\n",
       "      <th>22</th>\n",
       "      <td>Veterans Committee counts for little</td>\n",
       "      <td>Negative</td>\n",
       "      <td>Other</td>\n",
       "    </tr>\n",
       "    <tr>\n",
       "      <th>31</th>\n",
       "      <td>Today in Athens</td>\n",
       "      <td>Neutral</td>\n",
       "      <td>Other</td>\n",
       "    </tr>\n",
       "    <tr>\n",
       "      <th>33</th>\n",
       "      <td>Greek sprinters quit Games</td>\n",
       "      <td>Negative</td>\n",
       "      <td>Other</td>\n",
       "    </tr>\n",
       "    <tr>\n",
       "      <th>38</th>\n",
       "      <td>Owners Seek Best Ballpark Deal for Expos</td>\n",
       "      <td>Neutral</td>\n",
       "      <td>Economics</td>\n",
       "    </tr>\n",
       "    <tr>\n",
       "      <th>39</th>\n",
       "      <td>Crowd Inspires Greek Beach Volleyballers; U.S....</td>\n",
       "      <td>Negative</td>\n",
       "      <td>Other</td>\n",
       "    </tr>\n",
       "  </tbody>\n",
       "</table>\n",
       "</div>"
      ],
      "text/plain": [
       "                                            Headlines GPT Sentiment      Topic\n",
       "22               Veterans Committee counts for little      Negative      Other\n",
       "31                                    Today in Athens       Neutral      Other\n",
       "33                         Greek sprinters quit Games      Negative      Other\n",
       "38          Owners Seek Best Ballpark Deal for Expos        Neutral  Economics\n",
       "39  Crowd Inspires Greek Beach Volleyballers; U.S....      Negative      Other"
      ]
     },
     "execution_count": 6,
     "metadata": {},
     "output_type": "execute_result"
    }
   ],
   "source": [
    "non_fin_df = pd.read_csv('../../data/classified-data/ag-news-classification-dataset.csv')\n",
    "non_fin_df = non_fin_df[non_fin_df['Manual Topic'] == 'Sports']\n",
    "non_fin_df = non_fin_df[['Headlines','GPT Sentiment', 'Topic']]\n",
    "non_fin_df.head()"
   ]
  },
  {
   "cell_type": "code",
   "execution_count": 7,
   "metadata": {},
   "outputs": [
    {
     "data": {
      "text/plain": [
       "Other        0.95163\n",
       "Economics    0.04837\n",
       "Name: Topic, dtype: float64"
      ]
     },
     "execution_count": 7,
     "metadata": {},
     "output_type": "execute_result"
    }
   ],
   "source": [
    "non_fin_df['Topic'].value_counts() / len(non_fin_df)"
   ]
  },
  {
   "cell_type": "code",
   "execution_count": 8,
   "metadata": {},
   "outputs": [
    {
     "data": {
      "image/png": "[encoded data removed]",
      "text/plain": [
       "<Figure size 432x288 with 2 Axes>"
      ]
     },
     "metadata": {
      "needs_background": "light"
     },
     "output_type": "display_data"
    }
   ],
   "source": [
    "confusion_matrix = non_fin_df.groupby(['Topic', 'GPT Sentiment']).size().unstack(fill_value=0)\n",
    "confusion_matrix = confusion_matrix / confusion_matrix.sum()\n",
    "\n",
    "sns.heatmap(confusion_matrix, annot=True, fmt='.2%', cmap='Blues')\n",
    "plt.title('GPT Topic vs GPT Sentiment')\n",
    "plt.show()"
   ]
  },
  {
   "cell_type": "code",
   "execution_count": 9,
   "metadata": {},
   "outputs": [
    {
     "name": "stdout",
     "output_type": "stream",
     "text": [
      "\u001b[1mGPT topic: Economics\u001b[0m\n",
      "  \"NHL on Ice, Maybe for Whole 2004-05 Season \"\n",
      "  \"Button Must Stay With BAR!\"\n",
      "  \"Losing hits veterans the hardest\"\n",
      "  \"ATP chief says players to blame for burnout\"\n",
      "  \"Transactions\"\n",
      "  \"Deutsche Bank Says It #39;s Not in Talks With Glazer, Denies Report\"\n",
      "  \"Memphis Signs Gasol to Multi-Year Deal \"\n",
      "  \"Glazer ups United stake again\"\n",
      "  \"Federer Seals Year-End No. 1 Spot Three Months Early\"\n",
      "  \"O #39;Neill tries to lower expectations\"\n"
     ]
    }
   ],
   "source": [
    "print('\\033[1m' + 'GPT topic: Economics' + '\\033[0m')\n",
    "for row in non_fin_df[non_fin_df['Topic'] == 'Economics']['Headlines'].sample(10).values.tolist():\n",
    "    print(f'  \"{row}\"')"
   ]
  },
  {
   "attachments": {},
   "cell_type": "markdown",
   "metadata": {},
   "source": [
    "### Findings\n",
    "\n",
    "ChatGPT seems to effectively identify the topic of a given text. \n",
    "- In the Financial Phrasebank dataset, many examples categorized as 'Other' do not resemble economic content, suggesting that the reported 84.5% accuracy may be somewhat deceptive. \n",
    "- Meanwhile, the error rate for the AG-News dataset subset labeled as 'Sports' is quite low, with 95% of the instances being accurately classified."
   ]
  },
  {
   "attachments": {},
   "cell_type": "markdown",
   "metadata": {},
   "source": [
    "## Test set"
   ]
  },
  {
   "cell_type": "code",
   "execution_count": 10,
   "metadata": {},
   "outputs": [
    {
     "name": "stdout",
     "output_type": "stream",
     "text": [
      "<class 'pandas.core.frame.DataFrame'>\n",
      "RangeIndex: 25708 entries, 0 to 25707\n",
      "Data columns (total 2 columns):\n",
      " #   Column     Non-Null Count  Dtype \n",
      "---  ------     --------------  ----- \n",
      " 0   Headlines  25708 non-null  object\n",
      " 1   Topic      25708 non-null  object\n",
      "dtypes: object(2)\n",
      "memory usage: 401.8+ KB\n"
     ]
    },
    {
     "data": {
      "text/html": [
       "<div>\n",
       "<style scoped>\n",
       "    .dataframe tbody tr th:only-of-type {\n",
       "        vertical-align: middle;\n",
       "    }\n",
       "\n",
       "    .dataframe tbody tr th {\n",
       "        vertical-align: top;\n",
       "    }\n",
       "\n",
       "    .dataframe thead th {\n",
       "        text-align: right;\n",
       "    }\n",
       "</style>\n",
       "<table border=\"1\" class=\"dataframe\">\n",
       "  <thead>\n",
       "    <tr style=\"text-align: right;\">\n",
       "      <th></th>\n",
       "      <th>Headlines</th>\n",
       "      <th>Topic</th>\n",
       "    </tr>\n",
       "  </thead>\n",
       "  <tbody>\n",
       "    <tr>\n",
       "      <th>count</th>\n",
       "      <td>25708</td>\n",
       "      <td>25708</td>\n",
       "    </tr>\n",
       "    <tr>\n",
       "      <th>unique</th>\n",
       "      <td>25708</td>\n",
       "      <td>2</td>\n",
       "    </tr>\n",
       "    <tr>\n",
       "      <th>top</th>\n",
       "      <td>bale wants premier league return after further...</td>\n",
       "      <td>Other</td>\n",
       "    </tr>\n",
       "    <tr>\n",
       "      <th>freq</th>\n",
       "      <td>1</td>\n",
       "      <td>21029</td>\n",
       "    </tr>\n",
       "  </tbody>\n",
       "</table>\n",
       "</div>"
      ],
      "text/plain": [
       "                                                Headlines  Topic\n",
       "count                                               25708  25708\n",
       "unique                                              25708      2\n",
       "top     bale wants premier league return after further...  Other\n",
       "freq                                                    1  21029"
      ]
     },
     "execution_count": 10,
     "metadata": {},
     "output_type": "execute_result"
    }
   ],
   "source": [
    "# Check test set classifications\n",
    "test = pd.read_csv('../../data/fixed-data/topic-test.csv')\n",
    "\n",
    "test.info()\n",
    "test.describe()"
   ]
  },
  {
   "cell_type": "code",
   "execution_count": 11,
   "metadata": {},
   "outputs": [
    {
     "name": "stdout",
     "output_type": "stream",
     "text": [
      "                                               Headlines      Topic\n",
      "25698  obama attacks trump s worldview in front of gr...      Other\n",
      "25699  will new climate regulations destroy the econo...      Other\n",
      "25700  us consumer confidence falls as election race ...  Economics\n",
      "25701  biden to unveil plan to offer legal status for...      Other\n",
      "25702  credit to domestic economy stands at n14trn, s...  Economics\n",
      "25703                  gardner s fake schedule conflict?      Other\n",
      "25704  jury sides with led zeppelin in stairway to he...      Other\n",
      "25705  the moon and venus will come together in the n...      Other\n",
      "25706                 why you should drink cheap whiskey      Other\n",
      "25707  the sims 4 will get new skin tones, fix others...      Other\n"
     ]
    }
   ],
   "source": [
    "print(test.tail(10)[['Headlines', 'Topic']])"
   ]
  },
  {
   "cell_type": "code",
   "execution_count": 12,
   "metadata": {},
   "outputs": [
    {
     "name": "stdout",
     "output_type": "stream",
     "text": [
      "Topic\n",
      "Economics    0.182006\n",
      "Other        0.817994\n",
      "Name: Headlines, dtype: float64\n"
     ]
    }
   ],
   "source": [
    "# Class distribution\n",
    "print(test.groupby('Topic')['Headlines'].count() / len(test))"
   ]
  },
  {
   "attachments": {},
   "cell_type": "markdown",
   "metadata": {},
   "source": [
    "## Train set"
   ]
  },
  {
   "cell_type": "code",
   "execution_count": 13,
   "metadata": {},
   "outputs": [
    {
     "name": "stdout",
     "output_type": "stream",
     "text": [
      "Topic\n",
      "Economics    0.185975\n",
      "Other        0.814023\n",
      "Name: Headlines, dtype: float64\n"
     ]
    }
   ],
   "source": [
    "train = pd.read_csv('../../data/fixed-data/topic-train.csv')\n",
    "val = pd.read_csv('../../data/fixed-data/topic-val.csv')\n",
    "train = pd.concat([train, val], ignore_index=True)\n",
    "print(train.groupby('Topic')['Headlines'].count() / len(train))"
   ]
  },
  {
   "attachments": {},
   "cell_type": "markdown",
   "metadata": {},
   "source": [
    "We're working with an imbalanced dataset."
   ]
  },
  {
   "cell_type": "code",
   "execution_count": 14,
   "metadata": {},
   "outputs": [
    {
     "name": "stdout",
     "output_type": "stream",
     "text": [
      "<class 'pandas.core.frame.DataFrame'>\n",
      "RangeIndex: 640521 entries, 0 to 640520\n",
      "Data columns (total 2 columns):\n",
      " #   Column     Non-Null Count   Dtype \n",
      "---  ------     --------------   ----- \n",
      " 0   Headlines  640520 non-null  object\n",
      " 1   Topic      640521 non-null  object\n",
      "dtypes: object(2)\n",
      "memory usage: 9.8+ MB\n"
     ]
    },
    {
     "data": {
      "text/html": [
       "<div>\n",
       "<style scoped>\n",
       "    .dataframe tbody tr th:only-of-type {\n",
       "        vertical-align: middle;\n",
       "    }\n",
       "\n",
       "    .dataframe tbody tr th {\n",
       "        vertical-align: top;\n",
       "    }\n",
       "\n",
       "    .dataframe thead th {\n",
       "        text-align: right;\n",
       "    }\n",
       "</style>\n",
       "<table border=\"1\" class=\"dataframe\">\n",
       "  <thead>\n",
       "    <tr style=\"text-align: right;\">\n",
       "      <th></th>\n",
       "      <th>Headlines</th>\n",
       "      <th>Topic</th>\n",
       "    </tr>\n",
       "  </thead>\n",
       "  <tbody>\n",
       "    <tr>\n",
       "      <th>count</th>\n",
       "      <td>640520</td>\n",
       "      <td>640521</td>\n",
       "    </tr>\n",
       "    <tr>\n",
       "      <th>unique</th>\n",
       "      <td>640519</td>\n",
       "      <td>2</td>\n",
       "    </tr>\n",
       "    <tr>\n",
       "      <th>top</th>\n",
       "      <td>grace</td>\n",
       "      <td>Other</td>\n",
       "    </tr>\n",
       "    <tr>\n",
       "      <th>freq</th>\n",
       "      <td>2</td>\n",
       "      <td>521400</td>\n",
       "    </tr>\n",
       "  </tbody>\n",
       "</table>\n",
       "</div>"
      ],
      "text/plain": [
       "       Headlines   Topic\n",
       "count     640520  640521\n",
       "unique    640519       2\n",
       "top        grace   Other\n",
       "freq           2  521400"
      ]
     },
     "execution_count": 14,
     "metadata": {},
     "output_type": "execute_result"
    }
   ],
   "source": [
    "train.info()\n",
    "train.describe()"
   ]
  },
  {
   "cell_type": "code",
   "execution_count": 15,
   "metadata": {},
   "outputs": [
    {
     "data": {
      "image/png": "[encoded data removed]",
      "text/plain": [
       "<Figure size 1224x360 with 3 Axes>"
      ]
     },
     "metadata": {
      "needs_background": "light"
     },
     "output_type": "display_data"
    }
   ],
   "source": [
    "train['Headlines'] = train['Headlines'].astype(str)\n",
    "train['headline_length'] = train['Headlines'].apply(lambda x: min(len(x.split()), 25))\n",
    "\n",
    "fig, axes = plt.subplots(ncols=3, figsize=(17, 5))\n",
    "sns.histplot(data=train, x='headline_length', hue='Topic', multiple='stack',\n",
    "             bins=20, ax=axes[0])\n",
    "economics = train[train['Topic'] == 'Economics']\n",
    "other = train[train['Topic'] != 'Economics']\n",
    "\n",
    "sns.histplot(data=economics, x='headline_length', color='#f97d11', multiple='stack',\n",
    "             bins=20, ax=axes[1])\n",
    "sns.histplot(data=other, x='headline_length', multiple='stack',\n",
    "             bins=20, ax=axes[2])\n",
    "\n",
    "fig.suptitle('Topic Distribution by Headline Length')\n",
    "axes[0].set_title('All')\n",
    "axes[1].set_title('Economics') \n",
    "axes[2].set_title('Other')\n",
    "plt.show()"
   ]
  },
  {
   "cell_type": "code",
   "execution_count": 16,
   "metadata": {},
   "outputs": [
    {
     "data": {
      "image/png": "[encoded data removed]",
      "text/plain": [
       "<Figure size 720x648 with 3 Axes>"
      ]
     },
     "metadata": {
      "needs_background": "light"
     },
     "output_type": "display_data"
    }
   ],
   "source": [
    "from sklearn.feature_extraction.text import CountVectorizer\n",
    "\n",
    "\n",
    "def get_ngrams(corpus, ngrams=1, relative=False):\n",
    "    \"\"\"Get all n-grams from a corpus of text.\n",
    "    \n",
    "    Args:\n",
    "        corpus: A list of strings representing the text documents.\n",
    "        ngrams: The size of the n-grams to be extracted (default: 1).\n",
    "        relative: If True, returns relative frequencies (default: False).\n",
    "    \n",
    "    Returns:\n",
    "        A tuple containing two lists: n-gram words and their corresponding frequencies.\n",
    "    \"\"\"\n",
    "    vec = CountVectorizer(ngram_range=(ngrams, ngrams)).fit(corpus)\n",
    "    bag_of_words = vec.transform(corpus)\n",
    "    sum_words = bag_of_words.sum(axis=0)\n",
    "    words_freq = [(word, sum_words[0, idx]) for word, idx in vec.vocabulary_.items()]\n",
    "    words_freq = sorted(words_freq, key=lambda x: x[1], reverse=True)\n",
    "    words, frequencies = zip(*words_freq)\n",
    "    if relative:\n",
    "        frequencies = frequencies / np.sum(frequencies)\n",
    "    return words, frequencies\n",
    "\n",
    "\n",
    "def plot_top_ngrams(ax, corpus, ngrams=1, top_k=10):\n",
    "    \"\"\"Plot the top k n-grams from a corpus of text.\"\"\"\n",
    "    words, frequencies = get_ngrams(corpus, ngrams=ngrams)\n",
    "    words, frequencies = words[:top_k], frequencies[:top_k]\n",
    "    ax.barh(words, frequencies)\n",
    "    ax.invert_yaxis()\n",
    "    ax.set_xlabel('Frequency')\n",
    "    ax.set_ylabel(f'{ngrams}-grams')\n",
    "\n",
    "\n",
    "fig, axes = plt.subplots(3, 1, figsize=(10, 9))\n",
    "plot_top_ngrams(axes[0], train['Headlines'], ngrams=1)\n",
    "plot_top_ngrams(axes[1], train['Headlines'], ngrams=2)\n",
    "plot_top_ngrams(axes[2], train['Headlines'], ngrams=3)\n",
    "plt.tight_layout()\n",
    "plt.show()"
   ]
  },
  {
   "cell_type": "code",
   "execution_count": 17,
   "metadata": {},
   "outputs": [
    {
     "data": {
      "image/png": "[encoded data removed]",
      "text/plain": [
       "<Figure size 864x720 with 4 Axes>"
      ]
     },
     "metadata": {
      "needs_background": "light"
     },
     "output_type": "display_data"
    }
   ],
   "source": [
    "def plot_top_ngrams_relative(ax, corpus, total_counts, ngrams=1, top_k=10):\n",
    "    \"\"\" Plot the top k n-grams relative to the total dataset for a given corpus.\n",
    "    \n",
    "    I.e. if 'bull' is 0.2% of the total dataset and 0.6% of the corpus, then the relative\n",
    "    frequency of 'bull' is 0.6 - 0.2 = 0.4 %.\n",
    "    \n",
    "    Args:\n",
    "        ax: A matplotlib axes object for plotting.\n",
    "        corpus: A list of strings representing the text documents.\n",
    "        total_counts: A dictionary containing the total counts of n-grams for all topics.\n",
    "        ngrams: The size of the n-grams to be extracted (default: 1).\n",
    "        top_k: The number of top n-grams to display (default: 10).\n",
    "    \"\"\"\n",
    "    word_freq = get_ngrams(corpus, ngrams=ngrams, relative=True)\n",
    "    relative_word_freq = [(w, f - total_counts[w]) for w, f in zip(*word_freq)]\n",
    "    words_freq = sorted(relative_word_freq, key=lambda x: x[1], reverse=True)[:top_k]\n",
    "    words, relative_frequencies = zip(*words_freq)\n",
    "\n",
    "    ax.barh(words, relative_frequencies)\n",
    "    ax.invert_yaxis()\n",
    "    ax.set_xlabel('Relative Frequency')\n",
    "    ax.set_ylabel(f'{ngrams}-grams')\n",
    "    # Set x-axis to percentage\n",
    "    xticks = ax.get_xticks()\n",
    "    ax.set_xticks(xticks)\n",
    "    ax.set_xticklabels(['{:,.2%}'.format(x) for x in xticks])\n",
    "\n",
    "\n",
    "total_1ngrams = get_ngrams(train['Headlines'], ngrams=1, relative=True)\n",
    "total_1ngrams = dict(zip(*total_1ngrams))\n",
    "total_2ngrams = get_ngrams(train['Headlines'], ngrams=2, relative=True)\n",
    "total_2ngrams = dict(zip(*total_2ngrams))\n",
    "\n",
    "topics = ['Economics', 'Other']\n",
    "num_topics = len(topics)\n",
    "fig, axes = plt.subplots(2, num_topics, figsize=(6 * num_topics, 10))\n",
    "\n",
    "for col, topic in enumerate(topics):\n",
    "    headlines = train[train['Topic'] == topic]['Headlines']\n",
    "    axes[0, col].set_title(topic)\n",
    "    plot_top_ngrams_relative(axes[0, col], headlines, total_counts=total_1ngrams, ngrams=1)\n",
    "    plot_top_ngrams_relative(axes[1, col], headlines, total_counts=total_2ngrams, ngrams=2)\n",
    "\n",
    "fig.suptitle('Top N-grams Frequencies Relative to Full Dataset', fontsize=16, y=1.0)\n",
    "plt.tight_layout()\n",
    "plt.show()"
   ]
  },
  {
   "attachments": {},
   "cell_type": "markdown",
   "metadata": {},
   "source": [
    "## Key Findings\n",
    "\n",
    "After analyzing the dataset, the following key findings have emerged:\n",
    "\n",
    "- The dataset is imbalanced, with `Other` having significantly more headlines than `Economics`. \n",
    "    - One potential solution is to optimize a loss function that takes this into account (I.e. Class weighting). \n",
    "    - Alternatively, the `Economics` headlines could be repeated until the dataset is balanced.\n",
    "- While the frequency of `covid-19` n-grams is still high, it has decreased compared to the previous version of the dataset.\n",
    "- The sentence length distributions of the two topics are somewhat different, but this difference has significantly decreased compared to the previous dataset.\n",
    "\n",
    "Overall, the quality of the dataset has improved compared to the previous iteration and is now suitable for training models."
   ]
  },
  {
   "attachments": {},
   "cell_type": "markdown",
   "metadata": {},
   "source": [
    "### Earlier Findings\n",
    "\n",
    "<span style=\"color: #999999\">*This section contains the findings from the previous version of the dataset.*</span>\n",
    "\n",
    "- The dataset is imbalanced.\n",
    "    - Either optimize a loss function that takes this into account\n",
    "    - Or repeat `Economics` headlines until the dataset is balanced.\n",
    "- The amount of `covid-19` n-grams should be looked into. It means that the COVID-era headlines dominates dataset, which might not represent normal news coverage. \n",
    "- The two topics have a very different sentence length distributions.\n",
    "\n",
    "Overall, the dataset quality should be improved before starting training models.\n"
   ]
  }
 ],
 "metadata": {
  "kernelspec": {
   "display_name": "Python 3",
   "language": "python",
   "name": "python3"
  },
  "language_info": {
   "codemirror_mode": {
    "name": "ipython",
    "version": 3
   },
   "file_extension": ".py",
   "mimetype": "text/x-python",
   "name": "python",
   "nbconvert_exporter": "python",
   "pygments_lexer": "ipython3",
   "version": "3.10.5"
  },
  "orig_nbformat": 4
 },
 "nbformat": 4,
 "nbformat_minor": 2
}
