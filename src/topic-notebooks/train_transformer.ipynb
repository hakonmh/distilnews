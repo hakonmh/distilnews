{
 "cells": [
  {
   "attachments": {},
   "cell_type": "markdown",
   "metadata": {},
   "source": [
    "# Train Huggingface Transformer\n",
    "\n",
    "Trains a Transformer from Huggingface on the topic dataset"
   ]
  },
  {
   "cell_type": "code",
   "execution_count": 1,
   "metadata": {},
   "outputs": [],
   "source": [
    "# To allow importing modules from src\n",
    "import sys\n",
    "import os\n",
    "\n",
    "# Get the absolute path of the 'src' directory\n",
    "src_dir = os.path.abspath(os.path.join(os.getcwd(), os.pardir))\n",
    "\n",
    "# Add 'src' directory to the Python path\n",
    "if src_dir not in sys.path:\n",
    "    sys.path.append(src_dir)"
   ]
  },
  {
   "cell_type": "code",
   "execution_count": 2,
   "metadata": {},
   "outputs": [],
   "source": [
    "# Import necessary libraries\n",
    "import itertools\n",
    "import datetime\n",
    "import re\n",
    "\n",
    "import torch\n",
    "from torch.utils.data import DataLoader\n",
    "from torch.utils import tensorboard as tb # To run: tensorboard --logdir=runs\n",
    "from transformers import AutoTokenizer, AutoModelForSequenceClassification, get_scheduler\n",
    "\n",
    "from tqdm.auto import tqdm\n",
    "\n",
    "from lr_finder import LRFinder\n",
    "from helpers import (\n",
    "    TopicDataset, TOPIC_TO_ID, ID_TO_TOPIC, \n",
    "    save_model, test_accuracy\n",
    ")"
   ]
  },
  {
   "cell_type": "markdown",
   "metadata": {},
   "source": [
    "### Constants and hyperparameters"
   ]
  },
  {
   "cell_type": "code",
   "execution_count": 3,
   "metadata": {},
   "outputs": [
    {
     "data": {
      "text/plain": [
       "device(type='cuda')"
      ]
     },
     "execution_count": 3,
     "metadata": {},
     "output_type": "execute_result"
    }
   ],
   "source": [
    "# Other alternatives: \"albert-base-v2\", \"albert-large-v2\", \"bert-large-uncased\" \"roberta-base\", \n",
    "# \"distilbert-base-uncased\", \"facebook/bart-base\", \"google/fnet-base\", \"bert-base-uncased\"\n",
    "MODEL_NAME = \"microsoft/xtremedistil-l12-h384-uncased\"\n",
    "MAX_LEN = 35  # Sentence length for padding\n",
    "\n",
    "NUM_EPOCHS = 3\n",
    "LR = 5e-5\n",
    "WEIGHT_DECAY = 10e-5\n",
    "BATCH_SIZE = 50\n",
    "\n",
    "device = torch.device(\"cuda\") if torch.cuda.is_available() else torch.device(\"cpu\")\n",
    "now = datetime.datetime.now().strftime(\"%Y-%m-%d %H-%M-%S\")\n",
    "file_name = f'{os.path.basename(MODEL_NAME)}-topic {now}'\n",
    "\n",
    "device"
   ]
  },
  {
   "cell_type": "markdown",
   "metadata": {},
   "source": [
    "### Training Helper Functions"
   ]
  },
  {
   "cell_type": "code",
   "execution_count": 4,
   "metadata": {},
   "outputs": [],
   "source": [
    "def collate_batch(batch, tokenizer, max_length=25):\n",
    "    \"\"\"Process a batch of data to its proper form.\"\"\"\n",
    "    # Feature should be batch_size * num_words * num_vocabs\n",
    "    features, labels = zip(*batch)\n",
    "    features = tokenizer(features, add_special_tokens=True, max_length=max_length, \n",
    "                         padding=\"max_length\", truncation=True, return_tensors=\"pt\")\n",
    "    labels = torch.stack(labels)\n",
    "    return features, labels"
   ]
  },
  {
   "cell_type": "code",
   "execution_count": 5,
   "metadata": {},
   "outputs": [],
   "source": [
    "\n",
    "def train_model(\n",
    "    model, optimizer, train_loader, test_loader, writer, num_epochs, \n",
    "    scheduler=None, criterion=None, device='cuda', start_iter=0\n",
    "):\n",
    "    test_iter = itertools.cycle(iter(test_loader))\n",
    "    num_batches = len(train_loader)\n",
    "    writer.add_text('Hyperparameters', f'num_epochs: {num_epochs}, num_batches: {num_batches}')\n",
    "\n",
    "    progress_bar = tqdm(range(num_epochs*num_batches))\n",
    "    epoch_bar = tqdm(range(num_epochs))\n",
    "    for epoch in range(0, num_epochs):\n",
    "        batch_idx = 0\n",
    "        for train_batch in train_loader:\n",
    "            train_loss, train_f1_score = _train_one_round(train_batch, model, optimizer, \n",
    "                                                          scheduler, criterion, device)\n",
    "\n",
    "            if batch_idx % 10 == 0:\n",
    "                test_batch = next(test_iter)\n",
    "                test_loss, test_f1_score = _evaluate_one_round(test_batch, model, device)\n",
    "                gradient_norm = _get_gradient_norm(model)\n",
    "                lr = _get_learning_rate(optimizer, scheduler)\n",
    "\n",
    "                n_iter = batch_idx + num_batches * epoch + start_iter\n",
    "                _write_to_tboard(writer, n_iter, train_loss, test_loss, train_f1_score, \n",
    "                                 test_f1_score, gradient_norm, lr)\n",
    "            batch_idx += 1\n",
    "            progress_bar.update(1)\n",
    "        epoch_bar.update(1)\n",
    "\n",
    "\n",
    "def _train_one_round(batch, model, optimizer, scheduler=None, criterion=None, device='cuda'):\n",
    "    optimizer.zero_grad()\n",
    "    features, targets = batch\n",
    "    features = features.to(device=device)\n",
    "    targets = targets.to(device=device)\n",
    "\n",
    "    output = model(**features, labels=targets)\n",
    "    if criterion:\n",
    "        loss = criterion(output.logits, targets)\n",
    "    else:\n",
    "        loss = output.loss\n",
    "    loss.backward()\n",
    "    optimizer.step()\n",
    "    if scheduler is not None:\n",
    "        scheduler.step()\n",
    "\n",
    "    f1_score = _f1_score(output, targets)\n",
    "    del features, targets, output\n",
    "    return loss, f1_score\n",
    "\n",
    "\n",
    "def _evaluate_one_round(batch, model, device='cuda'):\n",
    "    features, targets = batch\n",
    "    features = features.to(device=device)\n",
    "    targets = targets.to(device=device)\n",
    "\n",
    "    with torch.no_grad():\n",
    "        output = model(**features, labels=targets)\n",
    "        loss = output.loss\n",
    "        f1_score = _f1_score(output, targets)\n",
    "    del features, targets, output\n",
    "    return loss, f1_score\n",
    "\n",
    "\n",
    "def _f1_score(output, target):\n",
    "    with torch.no_grad():\n",
    "        logits = output.logits\n",
    "        probs = torch.nn.functional.softmax(logits, dim=1)\n",
    "        preds = probs.argmax(dim=1)\n",
    "\n",
    "        tp = ((preds == 1) & (target == 1)).sum()\n",
    "        fp = ((preds == 1) & (target == 0)).sum()\n",
    "        fn = ((preds == 0) & (target == 1)).sum()\n",
    "\n",
    "        precision = tp / (tp + fp)\n",
    "        recall = tp / (tp + fn)\n",
    "        f1 = 2 * (precision * recall) / (precision + recall)\n",
    "        f1[torch.isnan(f1)] = 0\n",
    "    return f1.item()\n",
    "\n",
    "\n",
    "def _get_gradient_norm(model):\n",
    "    \"\"\"Computes the gradient norm of a model. I.e. the sum of the size of all gradients\"\"\"\n",
    "    total_norm = 0\n",
    "    for p in model.parameters():\n",
    "        param_norm = p.grad.norm(2)\n",
    "        total_norm += param_norm.item() ** 2\n",
    "    total_norm = total_norm ** 0.5\n",
    "    return total_norm\n",
    "\n",
    "\n",
    "def _get_learning_rate(optimizer, scheduler):\n",
    "    if scheduler:\n",
    "        lr = torch.log10(torch.tensor(scheduler.get_last_lr()[0])).item()\n",
    "    else:\n",
    "        lr = torch.log10(torch.tensor(optimizer.param_groups[0]['lr'])).item()\n",
    "    return lr\n",
    "\n",
    "\n",
    "def _write_to_tboard(writer, n_iter, train_loss, test_loss, \n",
    "                     train_f1_score, test_f1_score, gradient_norm, lr=None):\n",
    "    writer.add_scalar('Train loss', train_loss, n_iter)\n",
    "    writer.add_scalar('Test loss', test_loss, n_iter)\n",
    "    writer.add_scalar('Train f1-score', train_f1_score, n_iter)\n",
    "    writer.add_scalar('Test f1-score', test_f1_score, n_iter)\n",
    "    writer.add_scalar('Gradient norm', gradient_norm, n_iter)\n",
    "    if lr:\n",
    "        writer.add_scalar('Log learning rate', lr, n_iter)"
   ]
  },
  {
   "cell_type": "code",
   "execution_count": 6,
   "metadata": {},
   "outputs": [],
   "source": [
    "def weighted_criterion(dataset, device='cuda'):\n",
    "    \"\"\"Returns a weighted cross entropy loss function.\"\"\"\n",
    "    class_counts = torch.unique(dataset.y, return_counts=True)[1]\n",
    "    num_samples = sum(class_counts)\n",
    "    class_weights = [num_samples / count for count in class_counts]\n",
    "    class_weights = torch.tensor(class_weights, dtype=torch.float32)\n",
    "    class_weights = class_weights.to(device=device)\n",
    "    criterion = torch.nn.CrossEntropyLoss(weight=class_weights)\n",
    "    return criterion"
   ]
  },
  {
   "attachments": {},
   "cell_type": "markdown",
   "metadata": {},
   "source": [
    "### Load model and data"
   ]
  },
  {
   "cell_type": "code",
   "execution_count": 7,
   "metadata": {},
   "outputs": [
    {
     "name": "stderr",
     "output_type": "stream",
     "text": [
      "Some weights of BertForSequenceClassification were not initialized from the model checkpoint at microsoft/xtremedistil-l12-h384-uncased and are newly initialized: ['classifier.bias', 'classifier.weight']\n",
      "You should probably TRAIN this model on a down-stream task to be able to use it for predictions and inference.\n"
     ]
    }
   ],
   "source": [
    "tokenizer = AutoTokenizer.from_pretrained(MODEL_NAME, padding=\"max_length\", truncation=True)\n",
    "model = AutoModelForSequenceClassification.from_pretrained(\n",
    "    MODEL_NAME, num_labels=2, id2label=ID_TO_TOPIC, label2id=TOPIC_TO_ID\n",
    ")\n",
    "model = model.to(device)"
   ]
  },
  {
   "cell_type": "code",
   "execution_count": 8,
   "metadata": {},
   "outputs": [],
   "source": [
    "train_set = TopicDataset('../../data/fixed-data/topic-train.csv')\n",
    "test_set = TopicDataset('../../data/fixed-data/topic-val.csv')\n",
    "\n",
    "train_loader = DataLoader(train_set, batch_size=BATCH_SIZE, shuffle=True, \n",
    "                          collate_fn=lambda x: collate_batch(x, tokenizer, max_length=MAX_LEN))\n",
    "test_loader = DataLoader(test_set, batch_size=BATCH_SIZE, shuffle=True, \n",
    "                         collate_fn=lambda x: collate_batch(x, tokenizer, max_length=MAX_LEN))"
   ]
  },
  {
   "cell_type": "code",
   "execution_count": 9,
   "metadata": {},
   "outputs": [],
   "source": [
    "criterion = weighted_criterion(train_set, device=device)"
   ]
  },
  {
   "cell_type": "markdown",
   "metadata": {},
   "source": [
    "### Training"
   ]
  },
  {
   "cell_type": "code",
   "execution_count": 10,
   "metadata": {},
   "outputs": [
    {
     "data": {
      "image/png": "[encoded data removed]",
      "text/plain": [
       "<Figure size 432x288 with 1 Axes>"
      ]
     },
     "metadata": {
      "needs_background": "light"
     },
     "output_type": "display_data"
    },
    {
     "data": {
      "text/plain": [
       "0.0002219381397940735"
      ]
     },
     "execution_count": 10,
     "metadata": {},
     "output_type": "execute_result"
    }
   ],
   "source": [
    "optimizer = torch.optim.AdamW(model.parameters(), lr=1e-8, weight_decay=WEIGHT_DECAY)\n",
    "lrfinder = LRFinder(model, optimizer, criterion=criterion, device=device)\n",
    "lrfinder.run(train_loader, init_value=1e-8, final_value=1, beta=0.02)\n",
    "best_lr = lrfinder.plot()\n",
    "lrfinder.reset()\n",
    "best_lr"
   ]
  },
  {
   "cell_type": "code",
   "execution_count": 11,
   "metadata": {},
   "outputs": [
    {
     "data": {
      "application/vnd.jupyter.widget-view+json": {
       "model_id": "47afeea2089a40d28dbe98ef33089460",
       "version_major": 2,
       "version_minor": 0
      },
      "text/plain": [
       "  0%|          | 0/47172 [00:00<?, ?it/s]"
      ]
     },
     "metadata": {},
     "output_type": "display_data"
    },
    {
     "data": {
      "application/vnd.jupyter.widget-view+json": {
       "model_id": "2f6f86336f8d4b8b9918c7bbb0826453",
       "version_major": 2,
       "version_minor": 0
      },
      "text/plain": [
       "  0%|          | 0/3 [00:00<?, ?it/s]"
      ]
     },
     "metadata": {},
     "output_type": "display_data"
    }
   ],
   "source": [
    "optimizer = torch.optim.AdamW(model.parameters(), lr=LR, weight_decay=WEIGHT_DECAY)\n",
    "lr_scheduler = get_scheduler(\n",
    "    name=\"linear\", \n",
    "    optimizer=optimizer, \n",
    "    num_warmup_steps=0, \n",
    "    num_training_steps=NUM_EPOCHS * len(train_loader)\n",
    ")\n",
    "\n",
    "writer = tb.SummaryWriter(f'../../runs/{file_name}')\n",
    "train_model(model, optimizer, scheduler=lr_scheduler, criterion=criterion,\n",
    "            num_epochs=NUM_EPOCHS, train_loader=train_loader, test_loader=test_loader, \n",
    "            device=device, writer=writer)"
   ]
  },
  {
   "attachments": {},
   "cell_type": "markdown",
   "metadata": {},
   "source": [
    "### Storing and Evaluating the Model"
   ]
  },
  {
   "cell_type": "code",
   "execution_count": 12,
   "metadata": {},
   "outputs": [],
   "source": [
    "save_model(model, f'../../models/{file_name}.pth')"
   ]
  },
  {
   "cell_type": "code",
   "execution_count": 13,
   "metadata": {},
   "outputs": [
    {
     "name": "stdout",
     "output_type": "stream",
     "text": [
      "Test size: 31159\n",
      "Baseline accuracy: 62.68 %\n",
      "Accuracy: 94.19 %\n"
     ]
    }
   ],
   "source": [
    "test_accuracy(model, test_loader, device=device)"
   ]
  },
  {
   "cell_type": "code",
   "execution_count": 14,
   "metadata": {},
   "outputs": [
    {
     "name": "stdout",
     "output_type": "stream",
     "text": [
      "Label vs model prediction\n",
      "- Economics: Other\n",
      "- Other: Other\n"
     ]
    }
   ],
   "source": [
    "def predict_str(model, sentence):\n",
    "    model.eval()\n",
    "    with torch.no_grad():\n",
    "        tokens = sentence_pipeline(sentence)\n",
    "        tokens = tokens.to(device=device)\n",
    "        preds = model(**tokens)\n",
    "        probs = torch.nn.functional.softmax(preds.logits, dim=1)\n",
    "        yhat = probs.argmax(dim=1)\n",
    "        return ID_TO_TOPIC[yhat.item()]\n",
    "    \n",
    "\n",
    "def sentence_pipeline(sentence):\n",
    "    sentence = _clean_text(sentence)\n",
    "    features = tokenizer([sentence], add_special_tokens=True, max_length=MAX_LEN, \n",
    "                         padding=\"max_length\", truncation=True, return_tensors=\"pt\")\n",
    "    return features\n",
    "\n",
    "\n",
    "def _clean_text(headline: str):\n",
    "    headline = str(headline).lower()\n",
    "    headline = re.sub(r'[^a-zA-Z0-9.,?!-]', ' ', headline)\n",
    "    headline = re.sub(r'\\s+', ' ', headline)\n",
    "    headline = re.sub('- analyst blog', '', headline)\n",
    "    headline = headline.strip()\n",
    "    return headline\n",
    "\n",
    "\n",
    "economics = predict_str(model, \"Popularity of Sustainable Fashion Spurs Job Growth and Economic Resilience\")\n",
    "other = predict_str(model, \"Renowned Actor's Lavish Mansion Sets New Real Estate Record, Reflects Extravagant \"\n",
    "                    \"Taste in Luxury Living\")\n",
    "print(f\"Label vs model prediction\\n- Economics: {economics}\\n- Other: {other}\")"
   ]
  }
 ],
 "metadata": {
  "kernelspec": {
   "display_name": "Python 3 (ipykernel)",
   "language": "python",
   "name": "python3"
  },
  "language_info": {
   "codemirror_mode": {
    "name": "ipython",
    "version": 3
   },
   "file_extension": ".py",
   "mimetype": "text/x-python",
   "name": "python",
   "nbconvert_exporter": "python",
   "pygments_lexer": "ipython3",
   "version": "3.10.5"
  },
  "orig_nbformat": 4
 },
 "nbformat": 4,
 "nbformat_minor": 2
}
